{
 "cells": [
  {
   "cell_type": "code",
   "execution_count": null,
   "id": "27dc846a-2c38-490f-a817-8a6f537f03bb",
   "metadata": {},
   "outputs": [],
   "source": [
    "print(666)\n",
    "print(13.14)\n",
    "print(\"你好\")"
   ]
  },
  {
   "cell_type": "code",
   "execution_count": 42,
   "id": "288e1e0b-6fc5-4309-a4dc-4bac29005bdd",
   "metadata": {},
   "outputs": [
    {
     "name": "stdout",
     "output_type": "stream",
     "text": [
      "钱包还有： 50\n",
      "买了冰淇淋花费10元，还剩余： 40 元\n"
     ]
    }
   ],
   "source": [
    "\n",
    "money = 50\n",
    "print(\"钱包还有：\",money)\n",
    "money = money - 10\n",
    "print(\"买了冰淇淋花费10元，还剩余：\",money,\"元\")"
   ]
  },
  {
   "cell_type": "code",
   "execution_count": 44,
   "id": "a57fc0ca-6b90-4a78-9195-87213953bbe6",
   "metadata": {},
   "outputs": [
    {
     "name": "stdout",
     "output_type": "stream",
     "text": [
      "<class 'str'>\n",
      "<class 'int'>\n",
      "<class 'float'>\n"
     ]
    }
   ],
   "source": [
    "\n",
    "print(type(\"你好\"))\n",
    "print(type(666))\n",
    "print(type(11.345))"
   ]
  },
  {
   "cell_type": "code",
   "execution_count": 45,
   "id": "6024fc4c-1f33-4912-8deb-79b01e5f0bd8",
   "metadata": {},
   "outputs": [
    {
     "name": "stdout",
     "output_type": "stream",
     "text": [
      "<class 'str'>\n",
      "<class 'int'>\n",
      "<class 'float'>\n"
     ]
    }
   ],
   "source": [
    "\n",
    "string_type = type(\"你好\")\n",
    "int_type = type(666)\n",
    "float_type = type(11.345)\n",
    "\n",
    "print(string_type)\n",
    "print(int_type)\n",
    "print(float_type)"
   ]
  },
  {
   "cell_type": "code",
   "execution_count": 47,
   "id": "8a8f00ac-a59c-4d8f-bfd3-9201b2c50d87",
   "metadata": {},
   "outputs": [
    {
     "name": "stdout",
     "output_type": "stream",
     "text": [
      "<class 'str'>\n"
     ]
    }
   ],
   "source": [
    "# type()语句是否能查看变量中存储的数据类型？ - 可以 \n",
    "\n",
    "name = \"蔡徐坤\"\n",
    "name_type = type(name)\n",
    "print(name_type)"
   ]
  },
  {
   "cell_type": "code",
   "execution_count": 53,
   "id": "ba559418-a9ed-4fa2-98e6-dcd4958265d3",
   "metadata": {},
   "outputs": [
    {
     "name": "stdout",
     "output_type": "stream",
     "text": [
      "<class 'str'> 11\n",
      "<class 'str'> 11.345\n"
     ]
    }
   ],
   "source": [
    "# 将数字类型转换成字符串\n",
    "num_str = str(11)\n",
    "print(type(num_str),num_str)\n",
    "\n",
    "float_str = str(11.345)\n",
    "print(type(float_str),float_str)"
   ]
  },
  {
   "cell_type": "code",
   "execution_count": 56,
   "id": "51634638-bda3-4ef8-9937-9d0f20c7a4f0",
   "metadata": {},
   "outputs": [
    {
     "name": "stdout",
     "output_type": "stream",
     "text": [
      "<class 'int'> 11\n",
      "<class 'float'> 11.345\n"
     ]
    }
   ],
   "source": [
    "# 将字符转换成数字\n",
    "# Python文档: int(x) - 将 x 转换为整数\n",
    "num = int(\"11\")\n",
    "print(type(num),num)\n",
    "\n",
    "# Python文档：float(x) - 将 x 转换为浮点数\n",
    "num2 = float(\"11.345\")\n",
    "print(type(num2),num2)"
   ]
  },
  {
   "cell_type": "code",
   "execution_count": null,
   "id": "d32a5bad-a281-4b9b-ae4a-27242ff2b8da",
   "metadata": {},
   "outputs": [],
   "source": [
    "#错误示例：想要将字符串转换成数字，必须要求字符串内的内容都是数字\n",
    "num3 = int(\"CCC\")\n",
    "print(type(num3), num3)"
   ]
  },
  {
   "cell_type": "code",
   "execution_count": 58,
   "id": "cb8b62e0-a737-4043-8d02-07372e29282d",
   "metadata": {},
   "outputs": [
    {
     "name": "stdout",
     "output_type": "stream",
     "text": [
      "<class 'float'> 11.0\n"
     ]
    }
   ],
   "source": [
    "#整数转浮点数\n",
    "float_num = float(11)\n",
    "print(type(float_num), float_num)"
   ]
  },
  {
   "cell_type": "code",
   "execution_count": 59,
   "id": "eec2c6b0-f122-4183-82d5-5fd1c07fa21d",
   "metadata": {},
   "outputs": [
    {
     "name": "stdout",
     "output_type": "stream",
     "text": [
      "<class 'float'> 11.0\n"
     ]
    }
   ],
   "source": [
    "#浮点数转整数\n",
    "int_num = int(11.345)\n",
    "print(type(float_num), float_num)\n",
    "#浮点数转整数，将会丢失精度（即小数部分）\n",
    "#Python官方文档对此的解释：从 float 转换为 int 将会执行截断，丢弃掉小数部分。"
   ]
  },
  {
   "cell_type": "code",
   "execution_count": 8,
   "id": "332b4650-f1b5-4b36-a635-ec8196d4071c",
   "metadata": {},
   "outputs": [
    {
     "name": "stdout",
     "output_type": "stream",
     "text": [
      "蔡徐坤\n",
      "666\n"
     ]
    }
   ],
   "source": [
    "\n",
    "Itheima = \"\"\n",
    "itheima = 666\n",
    "\n",
    "print(Itheima)\n",
    "print(itheima)"
   ]
  },
  {
   "cell_type": "code",
   "execution_count": 13,
   "id": "6e08eaa9-5478-4f33-adcd-7dd8b1baaea0",
   "metadata": {},
   "outputs": [],
   "source": [
    "\n",
    "#class = 1\n",
    "#def = 1\n",
    "Class = 1\n",
    "Def = 1"
   ]
  }
 ],
 "metadata": {
  "kernelspec": {
   "display_name": "Python 3 (ipykernel)",
   "language": "python",
   "name": "python3"
  },
  "language_info": {
   "codemirror_mode": {
    "name": "ipython",
    "version": 3
   },
   "file_extension": ".py",
   "mimetype": "text/x-python",
   "name": "python",
   "nbconvert_exporter": "python",
   "pygments_lexer": "ipython3",
   "version": "3.10.6"
  }
 },
 "nbformat": 4,
 "nbformat_minor": 5
}
