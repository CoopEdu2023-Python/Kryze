{
 "cells": [
  {
   "cell_type": "code",
   "execution_count": 3,
   "id": "b2916ed9-df25-4602-a7e3-82cdfa1a1a4c",
   "metadata": {},
   "outputs": [
    {
     "name": "stdout",
     "output_type": "stream",
     "text": [
      "成年\n"
     ]
    }
   ],
   "source": [
    "#纯if语句\n",
    "age = 20\n",
    "if age >= 18:\n",
    "    print(\"成年\")"
   ]
  },
  {
   "cell_type": "code",
   "execution_count": 4,
   "id": "92d63e6a-01fb-477a-996d-aad1a1e82fa1",
   "metadata": {},
   "outputs": [
    {
     "name": "stdout",
     "output_type": "stream",
     "text": [
      "未成年\n"
     ]
    }
   ],
   "source": [
    "#带有else的if语句\n",
    "age = 16\n",
    "if age >= 18:\n",
    "    print(\"成年\")\n",
    "else:\n",
    "    print(\"未成年\")"
   ]
  },
  {
   "cell_type": "code",
   "execution_count": 7,
   "id": "72b498a4-463e-4387-a551-cd43fb5ac4f8",
   "metadata": {},
   "outputs": [
    {
     "name": "stdin",
     "output_type": "stream",
     "text": [
      " 19\n"
     ]
    },
    {
     "name": "stdout",
     "output_type": "stream",
     "text": [
      "成年\n",
      "123\n"
     ]
    }
   ],
   "source": [
    "#if语句只关联缩进范围内的\n",
    "age = int(input())\n",
    "if age >= 18:\n",
    "    print(\"成年\")\n",
    "else:\n",
    "    print(\"未成年\")\n",
    "print(\"123\") #这句话无论if返回什么都会执行"
   ]
  },
  {
   "cell_type": "code",
   "execution_count": null,
   "id": "bc19cd18-b3c1-4ee7-bc17-eab544e7f905",
   "metadata": {},
   "outputs": [],
   "source": [
    "#多条件判断（有先后性）\n",
    "chos = int(input())\n",
    "if chos = 1:\n",
    "    print(\"111\")\n",
    "elif chos = 2:\n",
    "    print(\"22\")\n"
   ]
  }
 ],
 "metadata": {
  "kernelspec": {
   "display_name": "Python 3 (ipykernel)",
   "language": "python",
   "name": "python3"
  },
  "language_info": {
   "codemirror_mode": {
    "name": "ipython",
    "version": 3
   },
   "file_extension": ".py",
   "mimetype": "text/x-python",
   "name": "python",
   "nbconvert_exporter": "python",
   "pygments_lexer": "ipython3",
   "version": "3.9.0"
  }
 },
 "nbformat": 4,
 "nbformat_minor": 5
}
