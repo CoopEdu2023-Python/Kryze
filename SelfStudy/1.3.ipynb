{
 "cells": [
  {
   "cell_type": "code",
   "execution_count": 3,
   "id": "b11c5371-2250-4340-9bcd-408fb3886dc7",
   "metadata": {},
   "outputs": [
    {
     "name": "stdout",
     "output_type": "stream",
     "text": [
      "My name is Kryze 我的性别是 male\n"
     ]
    }
   ],
   "source": [
    "#较为复杂的字符串拼接方式\n",
    "name = \"Kryze\"\n",
    "sex = \"male\"\n",
    "print(\"My name is \" + name + \" 我的性别是 \" + sex)"
   ]
  },
  {
   "cell_type": "code",
   "execution_count": 4,
   "id": "884a0f8e-2540-4a2b-9801-058707a9c7fe",
   "metadata": {},
   "outputs": [
    {
     "name": "stdout",
     "output_type": "stream",
     "text": [
      "My name is Kryze\n"
     ]
    }
   ],
   "source": [
    "#便捷一些的方式\n",
    "name = \"Kryze\"\n",
    "message = \"My name is %s\" % name\n",
    "print(message)"
   ]
  },
  {
   "cell_type": "code",
   "execution_count": 7,
   "id": "33af16cc-a702-4d2e-9f1b-f148b3194f29",
   "metadata": {},
   "outputs": [
    {
     "name": "stdout",
     "output_type": "stream",
     "text": [
      "我今年16岁了，我的性别是male\n"
     ]
    }
   ],
   "source": [
    "age = 16\n",
    "sex = \"male\"\n",
    "message = \"我今年%s岁了，我的性别是%s\" % (age, sex)\n",
    "print(message)"
   ]
  },
  {
   "cell_type": "code",
   "execution_count": 12,
   "id": "b98beee4-924b-4b40-b1a7-5979cf560834",
   "metadata": {},
   "outputs": [
    {
     "name": "stdout",
     "output_type": "stream",
     "text": [
      "My name is Kryze, I got 100.0000 points ,  I'm 16 years old\n"
     ]
    }
   ],
   "source": [
    "#其他占位符样本\n",
    "age = 16\n",
    "score = 100.0\n",
    "name = \"Kryze\"\n",
    "message = \"My name is %s, I got %f points ,  I'm %d years old\" % (name, score, age)\n",
    "print(message)"
   ]
  },
  {
   "cell_type": "code",
   "execution_count": 17,
   "id": "c747fedf-5f70-46fc-9eb2-c7b63e90733e",
   "metadata": {},
   "outputs": [
    {
     "name": "stdout",
     "output_type": "stream",
     "text": [
      " 10.0\n",
      "10.000\n",
      "Kryze\n",
      "     Kryze\n"
     ]
    }
   ],
   "source": [
    "#占位符精度控制\n",
    "num = 10.0\n",
    "str = \"Kryze\"\n",
    "print(\"%5.1f\" % num)\n",
    "print(\"%.3f\" % num)\n",
    "print(\"%3s\" % str) #小于字符串长度无效\n",
    "print(\"%10s\" % str)"
   ]
  },
  {
   "cell_type": "code",
   "execution_count": 18,
   "id": "160ff637-0c25-4f00-99c8-4c44ea5a140d",
   "metadata": {},
   "outputs": [
    {
     "name": "stdout",
     "output_type": "stream",
     "text": [
      "first number is 114 , second string is 514\n"
     ]
    }
   ],
   "source": [
    "#第二种格式化字符串的方式\n",
    "num = 114\n",
    "str = 514\n",
    "print(f\"first number is {num} , second string is {str}\")"
   ]
  },
  {
   "cell_type": "code",
   "execution_count": null,
   "id": "dc73a584-b02f-4f26-a537-02593baa94aa",
   "metadata": {},
   "outputs": [],
   "source": []
  }
 ],
 "metadata": {
  "kernelspec": {
   "display_name": "Python 3 (ipykernel)",
   "language": "python",
   "name": "python3"
  },
  "language_info": {
   "codemirror_mode": {
    "name": "ipython",
    "version": 3
   },
   "file_extension": ".py",
   "mimetype": "text/x-python",
   "name": "python",
   "nbconvert_exporter": "python",
   "pygments_lexer": "ipython3",
   "version": "3.9.0"
  }
 },
 "nbformat": 4,
 "nbformat_minor": 5
}
