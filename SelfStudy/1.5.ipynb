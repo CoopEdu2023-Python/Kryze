{
 "cells": [
  {
   "cell_type": "code",
   "execution_count": 3,
   "id": "f71938b1-c84c-43e3-8c46-7577d9f70333",
   "metadata": {},
   "outputs": [
    {
     "name": "stdout",
     "output_type": "stream",
     "text": [
      "0 1 2 3 4 5 6 7 8 9 10 \n",
      " 55\n"
     ]
    }
   ],
   "source": [
    "#while循环为条件循环\n",
    "i = 0\n",
    "sum = 0\n",
    "while (i <= 10):\n",
    "    print(i, end = \" \")\n",
    "    sum += i\n",
    "    i += 1\n",
    "print(\"\\n\",sum)"
   ]
  },
  {
   "cell_type": "code",
   "execution_count": 12,
   "id": "0c1019b1-5da1-4222-af07-1b84fb46e9f9",
   "metadata": {},
   "outputs": [
    {
     "name": "stdout",
     "output_type": "stream",
     "text": [
      "0 \n",
      "\n",
      "0 1 \n",
      "\n",
      "0 1 2 \n",
      "\n",
      "0 1 2 3 \n",
      "\n",
      "0 1 2 3 4 \n",
      "\n",
      "0 1 2 3 4 5 \n",
      "\n",
      "0 1 2 3 4 5 6 \n",
      "\n",
      "0 1 2 3 4 5 6 7 \n",
      "\n",
      "0 1 2 3 4 5 6 7 8 \n",
      "\n",
      "0 1 2 3 4 5 6 7 8 9 \n",
      "\n",
      "0 1 2 3 4 5 6 7 8 9 10 \n",
      "\n"
     ]
    }
   ],
   "source": [
    "#循环嵌套\n",
    "i = 0\n",
    "j = 0\n",
    "while (i <= 10):\n",
    "    j = 0\n",
    "    while(j <= i):\n",
    "        print(j, end = \" \")\n",
    "        j += 1\n",
    "    i += 1\n",
    "    print(\"\\n\")"
   ]
  },
  {
   "cell_type": "code",
   "execution_count": 14,
   "id": "70ea2e6e-d1d8-4702-a0dd-ec83f72c7169",
   "metadata": {},
   "outputs": [
    {
     "name": "stdout",
     "output_type": "stream",
     "text": [
      "K r y z e \n",
      " 5\n"
     ]
    }
   ],
   "source": [
    "# for循环处理较为重复的语句\n",
    "name = \"Kryze\"\n",
    "s = 0\n",
    "for i in name:\n",
    "    print(i, end = \" \")\n",
    "    s += 1\n",
    "print(\"\\n\", s)"
   ]
  },
  {
   "cell_type": "code",
   "execution_count": 23,
   "id": "d9efea52-7b9a-4be2-aede-636a4028b39c",
   "metadata": {},
   "outputs": [
    {
     "name": "stdout",
     "output_type": "stream",
     "text": [
      "1 2 3 4 5 6 7 8 9 "
     ]
    }
   ],
   "source": [
    "# 遍历数字序列用 range\n",
    "#range(start默认为0, end, step默认为1)\n",
    "beg = 1\n",
    "end = 10\n",
    "for x in range(beg, end, 1):\n",
    "    print(x, end = \" \")"
   ]
  },
  {
   "cell_type": "code",
   "execution_count": null,
   "id": "d1fef656-0252-4116-a132-f39ec8025d67",
   "metadata": {},
   "outputs": [],
   "source": [
    "# continue跳过下面语句进入下一重循环\n",
    "# break跳出循环\n",
    "for x in range(10):\n",
    "    if x == 5"
   ]
  }
 ],
 "metadata": {
  "kernelspec": {
   "display_name": "Python 3 (ipykernel)",
   "language": "python",
   "name": "python3"
  },
  "language_info": {
   "codemirror_mode": {
    "name": "ipython",
    "version": 3
   },
   "file_extension": ".py",
   "mimetype": "text/x-python",
   "name": "python",
   "nbconvert_exporter": "python",
   "pygments_lexer": "ipython3",
   "version": "3.9.0"
  }
 },
 "nbformat": 4,
 "nbformat_minor": 5
}
