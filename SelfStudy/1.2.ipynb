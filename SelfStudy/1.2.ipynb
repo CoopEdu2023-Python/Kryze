{
 "cells": [
  {
   "cell_type": "code",
   "execution_count": 6,
   "id": "b61377fa-fcf7-4c9e-a3eb-37656d6f3e3b",
   "metadata": {},
   "outputs": [
    {
     "name": "stdout",
     "output_type": "stream",
     "text": [
      "1 + 1 = 2\n",
      "2 - 3 = -1\n",
      "2 * 3 = 6\n",
      "7 // 3 = 2\n",
      "100 / 8 = 12.5\n",
      "8 % 3 = 2\n",
      "10 ** 3 = 1000\n"
     ]
    }
   ],
   "source": [
    "#算数运算符\n",
    "print(\"1 + 1 =\", 1+1)\n",
    "print(\"2 - 3 =\", 2-3)\n",
    "print(\"2 * 3 =\", 2*3)\n",
    "print(\"7 // 3 =\", 7//3)\n",
    "print(\"100 / 8 =\", 100/8)\n",
    "print(\"8 % 3 =\", 8%3)\n",
    "print(\"10 ** 3 =\", 10**3)"
   ]
  },
  {
   "cell_type": "code",
   "execution_count": 7,
   "id": "e215f916-b55b-4748-aa6b-38227d86d75b",
   "metadata": {},
   "outputs": [
    {
     "name": "stdout",
     "output_type": "stream",
     "text": [
      "4\n"
     ]
    }
   ],
   "source": [
    "#赋值运算符\n",
    "num = 1 + 3\n",
    "print(num)"
   ]
  },
  {
   "cell_type": "code",
   "execution_count": 9,
   "id": "f3fe7aeb-6731-4bbb-bcdd-e88180c4f6bb",
   "metadata": {},
   "outputs": [
    {
     "name": "stdout",
     "output_type": "stream",
     "text": [
      "num = 8\n",
      "num += 2 = 10\n",
      "num -= 3 = 7\n"
     ]
    }
   ],
   "source": [
    "#复合运算符\n",
    "num = 8\n",
    "print(\"num =\",num)\n",
    "num += 2\n",
    "print(\"num += 2 =\",num)\n",
    "num -=3\n",
    "print(\"num -= 3 =\",num)\n",
    "#......."
   ]
  },
  {
   "cell_type": "code",
   "execution_count": null,
   "id": "45ea0da9-1a70-41a6-905e-4fc51ebd4209",
   "metadata": {},
   "outputs": [],
   "source": []
  }
 ],
 "metadata": {
  "kernelspec": {
   "display_name": "Python 3 (ipykernel)",
   "language": "python",
   "name": "python3"
  },
  "language_info": {
   "codemirror_mode": {
    "name": "ipython",
    "version": 3
   },
   "file_extension": ".py",
   "mimetype": "text/x-python",
   "name": "python",
   "nbconvert_exporter": "python",
   "pygments_lexer": "ipython3",
   "version": "3.11.5"
  }
 },
 "nbformat": 4,
 "nbformat_minor": 5
}
