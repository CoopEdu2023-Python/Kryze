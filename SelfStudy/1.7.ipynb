{
 "cells": [
  {
   "cell_type": "code",
   "execution_count": 4,
   "id": "ae8396a1-f821-4074-91e7-aa5554fdbf57",
   "metadata": {},
   "outputs": [
    {
     "name": "stdout",
     "output_type": "stream",
     "text": [
      "['1', '2', 3, True, 4.5]\n",
      "<class 'list'>\n"
     ]
    }
   ],
   "source": [
    "#名字列表\n",
    "name_list = [\"1\", \"2\", 3, True, 4.5]\n",
    "#列表可存储多种类型的数据\n",
    "print(name_list)\n",
    "print(type(name_list))"
   ]
  },
  {
   "cell_type": "code",
   "execution_count": 7,
   "id": "46be77e6-3742-4c06-895d-599568052b61",
   "metadata": {},
   "outputs": [
    {
     "name": "stdout",
     "output_type": "stream",
     "text": [
      "[[1, 2, 3], [4, 5, 6]]\n",
      "<class 'list'>\n"
     ]
    }
   ],
   "source": [
    "#列表嵌套\n",
    "list = [[1, 2, 3], [4, 5, 6]]\n",
    "print(list)\n",
    "print(type(list))"
   ]
  },
  {
   "cell_type": "code",
   "execution_count": 11,
   "id": "d96e3e5f-ff0d-47bb-9bce-dc63fad5f6f3",
   "metadata": {},
   "outputs": [
    {
     "name": "stdout",
     "output_type": "stream",
     "text": [
      "1\n",
      "3\n"
     ]
    }
   ],
   "source": [
    "#调用列表中的元素\n",
    "list = [1, 2, 3]\n",
    "print(list[0])\n",
    "#反向索引\n",
    "print(list[-1])\n",
    "#倒数第一个\n",
    "#print(list[4])不可超出索引范围"
   ]
  },
  {
   "cell_type": "code",
   "execution_count": 27,
   "id": "548f030c-be22-4dc6-a771-8e3514a211f6",
   "metadata": {},
   "outputs": [
    {
     "name": "stdout",
     "output_type": "stream",
     "text": [
      "0\n",
      "['123', 'world', 'python']\n",
      "['123', 'hello', 'world', 'python']\n",
      "['123', 'hello', 'world', 'python', 'pycharm', 'jetbrain', 'py3']\n",
      "['123', 'hello', 'world', 'python', 'pycharm', 'jetbrain']\n",
      "jetbrain\n",
      "['123', 'hello', 'world', 'python', 'pycharm']\n",
      "['hello', 'world', 'python', 'pycharm']\n",
      "['hello', 'world', 'python', 'pycharm']\n",
      "3\n",
      "6\n"
     ]
    }
   ],
   "source": [
    "#列表方法\n",
    "#查找索引值\n",
    "list = [\"hello\", \"world\", \"python\"]\n",
    "print(list.index(\"hello\"))\n",
    "#print(list.index(\"1\")) 不可查找不存在的值\n",
    "#修改元素\n",
    "list[0] = \"123\"\n",
    "print(list)\n",
    "#插入元素\n",
    "list.insert(1, \"hello\")\n",
    "print(list)\n",
    "#末尾追加元素\n",
    "list.append(\"pycharm\")\n",
    "list.extend([\"jetbrain\", \"py3\"])\n",
    "print(list)\n",
    "#删除元素\n",
    "del list[-1]\n",
    "print(list)\n",
    "ele = list.pop(-1)\n",
    "print(ele)\n",
    "print(list)\n",
    "list.remove(\"123\")\n",
    "print(list)\n",
    "#清空列表\n",
    "list.clear\n",
    "print(list)\n",
    "#元素计数\n",
    "list = [1, 1, 4, 5, 1, 4]\n",
    "print(list.count(1))\n",
    "#统计列表元素数\n",
    "print(len(list))"
   ]
  },
  {
   "cell_type": "code",
   "execution_count": 31,
   "id": "cd640312-eb53-4d14-b422-eb526f4d9df4",
   "metadata": {},
   "outputs": [
    {
     "name": "stdout",
     "output_type": "stream",
     "text": [
      "hello\n",
      "world\n",
      "python\n",
      ".............\n",
      "hello\n",
      "world\n",
      "python\n"
     ]
    }
   ],
   "source": [
    "#遍历列表\n",
    "list = [\"hello\", \"world\", \"python\"]\n",
    "#while循环\n",
    "i = 0\n",
    "while i < len(list):\n",
    "    print(list[i])\n",
    "    i += 1\n",
    "#for循环\n",
    "print(\".............\")\n",
    "for e in list:\n",
    "    print(e)"
   ]
  },
  {
   "cell_type": "code",
   "execution_count": 44,
   "id": "e2d5112c-d74a-48d1-a933-96ddbad12bdf",
   "metadata": {},
   "outputs": [
    {
     "name": "stdout",
     "output_type": "stream",
     "text": [
      "hello <class 'str'>\n",
      "() <class 'tuple'>\n",
      "() <class 'tuple'>\n",
      "(1, 2, 3, 1, 4, 5) <class 'tuple'>\n",
      "((1, 2, 3), (1, 2, 3)) <class 'tuple'> \n",
      "..............\n",
      "0\n",
      "2\n",
      "2 \n",
      "............\n",
      "1\n",
      "2\n",
      "3\n",
      "1\n",
      "4\n",
      "5\n",
      "............\n",
      "1\n",
      "2\n",
      "3\n",
      "1\n",
      "4\n",
      "5\n"
     ]
    }
   ],
   "source": [
    "#元组\n",
    "t1 = (\"hello\")\n",
    "t2 = tuple()\n",
    "t3 = ()\n",
    "t4 = (1, 2, 3, 1, 4, 5)\n",
    "t5 = ((1, 2, 3), (1, 2, 3))\n",
    "#元组元素不可修改\n",
    "print(t1, type(t1))\n",
    "print(t2, type(t2))\n",
    "print(t3, type(t3))\n",
    "print(t4, type(t4))\n",
    "print(t5, type(t5), \"\\n..............\")\n",
    "#元组方法\n",
    "#查找元素\n",
    "print(t4.index(1))\n",
    "print(t4.count(1))\n",
    "print(len(t5), \"\\n............\")\n",
    "#元组遍历\n",
    "#while循环\n",
    "i = 0\n",
    "while i < len(t4):\n",
    "    print(t4[i])\n",
    "    i += 1\n",
    "#for循环\n",
    "print(\"............\")\n",
    "for e  in t4:\n",
    "    print(e)"
   ]
  },
  {
   "cell_type": "code",
   "execution_count": 45,
   "id": "fbe6dc13-b84e-48b1-90a2-72b492259202",
   "metadata": {},
   "outputs": [
    {
     "name": "stdout",
     "output_type": "stream",
     "text": [
      "(1, 2, [0, 2])\n"
     ]
    }
   ],
   "source": [
    "#奇妙的定义方式\n",
    "t = (1, 2, [1, 2])\n",
    "t[2][0] = 0\n",
    "print(t)"
   ]
  },
  {
   "cell_type": "code",
   "execution_count": 61,
   "id": "c068785a-fb77-4574-8993-082927b9bcb3",
   "metadata": {},
   "outputs": [
    {
     "name": "stdout",
     "output_type": "stream",
     "text": [
      "h d\n",
      "4\n",
      "6\n",
      "f world\n",
      "['hello', 'world']\n",
      "hello\n",
      "hello\n",
      "2\n",
      "1\n",
      "11\n"
     ]
    }
   ],
   "source": [
    "#字符串\n",
    "#定义\n",
    "str = \"hello world\"\n",
    "#获取索引\n",
    "print(str[0],str[-1])\n",
    "#查找索引\n",
    "print(str.index(\"o\"))\n",
    "print(str.index(\"world\"))\n",
    "#replace\n",
    "nstr = str.replace(\"hello\", \"f\")\n",
    "print(nstr)\n",
    "#分割字符串\n",
    "list = str.split(\" \")\n",
    "print(list)\n",
    "#strip\n",
    "str1 = \"   hello    \"\n",
    "print(str1.strip())\n",
    "str2 = \"12hello21\"\n",
    "print(str2.strip(\"12\"))\n",
    "#统计字符出现次数\n",
    "print(str.count(\"o\"))\n",
    "print(str.count(\"hello\"))\n",
    "#统计字符数\n",
    "print(len(str))"
   ]
  }
 ],
 "metadata": {
  "kernelspec": {
   "display_name": "Python 3 (ipykernel)",
   "language": "python",
   "name": "python3"
  },
  "language_info": {
   "codemirror_mode": {
    "name": "ipython",
    "version": 3
   },
   "file_extension": ".py",
   "mimetype": "text/x-python",
   "name": "python",
   "nbconvert_exporter": "python",
   "pygments_lexer": "ipython3",
   "version": "3.9.0"
  }
 },
 "nbformat": 4,
 "nbformat_minor": 5
}
