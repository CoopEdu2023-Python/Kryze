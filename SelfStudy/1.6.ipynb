{
 "cells": [
  {
   "cell_type": "code",
   "execution_count": 3,
   "id": "04ee6c19-7e53-43a5-97e6-dff5d91932ee",
   "metadata": {},
   "outputs": [
    {
     "name": "stdout",
     "output_type": "stream",
     "text": [
      "6\n",
      "3\n"
     ]
    }
   ],
   "source": [
    "#无返回值函数运用实例\n",
    "str1 = \"123123\"\n",
    "str2 = \"114\"\n",
    "print(len(str1))\n",
    "print(len(str2))\n",
    "def len(str):\n",
    "    s = 0\n",
    "    for i in str1:\n",
    "        s += 1\n",
    "    print(s)"
   ]
  },
  {
   "cell_type": "code",
   "execution_count": 4,
   "id": "fbd7089b-2142-4bc4-b618-8ba1e72f0da8",
   "metadata": {},
   "outputs": [
    {
     "name": "stdin",
     "output_type": "stream",
     "text": [
      " 4\n"
     ]
    },
    {
     "name": "stdout",
     "output_type": "stream",
     "text": [
      "True\n"
     ]
    }
   ],
   "source": [
    "#有返回值的函数\n",
    "def isodd(a):\n",
    "    return a % 2 == 0\n",
    "s = int(input())\n",
    "print(isodd(s))"
   ]
  },
  {
   "cell_type": "code",
   "execution_count": 6,
   "id": "e2d3f1f0-5fb2-418f-a362-cba695d286d3",
   "metadata": {},
   "outputs": [
    {
     "name": "stdin",
     "output_type": "stream",
     "text": [
      " 1\n",
      " 4\n"
     ]
    },
    {
     "name": "stdout",
     "output_type": "stream",
     "text": [
      "4\n"
     ]
    }
   ],
   "source": [
    "def max(a, b):\n",
    "    if a > b:\n",
    "        return a\n",
    "    else:\n",
    "        return b\n",
    "a = int(input())\n",
    "b = int(input())\n",
    "print(max(a, b))"
   ]
  },
  {
   "cell_type": "code",
   "execution_count": 8,
   "id": "6e9d647b-5759-4fea-b0a7-f7e2115ca71b",
   "metadata": {},
   "outputs": [
    {
     "name": "stdout",
     "output_type": "stream",
     "text": [
      "6\n"
     ]
    }
   ],
   "source": [
    "#注意事项\n",
    "def add(a, b):\n",
    "    res = a + b\n",
    "    return res\n",
    "    print(\"hello world\") #此处不执行因为已经在return后面了\n",
    "a = 2\n",
    "b = 4\n",
    "print(add(a, b))"
   ]
  }
 ],
 "metadata": {
  "kernelspec": {
   "display_name": "Python 3 (ipykernel)",
   "language": "python",
   "name": "python3"
  },
  "language_info": {
   "codemirror_mode": {
    "name": "ipython",
    "version": 3
   },
   "file_extension": ".py",
   "mimetype": "text/x-python",
   "name": "python",
   "nbconvert_exporter": "python",
   "pygments_lexer": "ipython3",
   "version": "3.9.0"
  }
 },
 "nbformat": 4,
 "nbformat_minor": 5
}
