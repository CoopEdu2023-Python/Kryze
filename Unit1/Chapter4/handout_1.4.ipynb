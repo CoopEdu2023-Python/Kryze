{
 "cells": [
  {
   "cell_type": "markdown",
   "id": "2088ae44b059e8b7",
   "metadata": {
    "collapsed": false,
    "jupyter": {
     "outputs_hidden": false
    }
   },
   "source": [
    "# Boolean | 布尔值"
   ]
  },
  {
   "cell_type": "markdown",
   "id": "812318bd9923147f",
   "metadata": {
    "collapsed": false,
    "jupyter": {
     "outputs_hidden": false
    }
   },
   "source": [
    "1.  What is the boolean value of -1?\n",
    "\n",
    "    -1 的布尔值是多少？"
   ]
  },
  {
   "cell_type": "code",
   "execution_count": 1,
   "id": "dbaeb127a073c91d",
   "metadata": {
    "collapsed": false,
    "jupyter": {
     "outputs_hidden": false
    }
   },
   "outputs": [
    {
     "name": "stdout",
     "output_type": "stream",
     "text": [
      "True\n"
     ]
    }
   ],
   "source": [
    "print(bool(-1))"
   ]
  },
  {
   "cell_type": "markdown",
   "id": "61452a1329c2fe1",
   "metadata": {
    "collapsed": false,
    "jupyter": {
     "outputs_hidden": false
    }
   },
   "source": [
    "2. What is the boolean value of \"a\"?\n",
    "\n",
    "    \"a\" 的布尔值是多少？"
   ]
  },
  {
   "cell_type": "code",
   "execution_count": 2,
   "id": "ad2937b8d3594483",
   "metadata": {
    "collapsed": false,
    "is_executing": true,
    "jupyter": {
     "outputs_hidden": false
    }
   },
   "outputs": [
    {
     "name": "stdout",
     "output_type": "stream",
     "text": [
      "True\n"
     ]
    }
   ],
   "source": [
    "print(bool(\"a\"))"
   ]
  },
  {
   "cell_type": "raw",
   "id": "6297e76c40bd0338",
   "metadata": {
    "collapsed": false,
    "jupyter": {
     "outputs_hidden": false
    }
   },
   "source": [
    "# Comparison Operator | 比较运算符"
   ]
  },
  {
   "cell_type": "raw",
   "id": "14038ad5631e2afa",
   "metadata": {
    "collapsed": false,
    "jupyter": {
     "outputs_hidden": false
    }
   },
   "source": [
    "3. Can str and numbers be compared?"
   ]
  },
  {
   "cell_type": "code",
   "execution_count": 3,
   "id": "39f1179887a8c721",
   "metadata": {
    "collapsed": false,
    "jupyter": {
     "outputs_hidden": false
    }
   },
   "outputs": [
    {
     "name": "stdout",
     "output_type": "stream",
     "text": [
      "True\n"
     ]
    }
   ],
   "source": [
    "print((\"a\" >= \"?\"))"
   ]
  },
  {
   "cell_type": "markdown",
   "id": "c5c00bfb1c74658",
   "metadata": {
    "collapsed": false,
    "jupyter": {
     "outputs_hidden": false
    }
   },
   "source": [
    "4. What is the difference between \"=\" and \"==\""
   ]
  },
  {
   "cell_type": "code",
   "execution_count": null,
   "id": "2d68eeb47d730905",
   "metadata": {
    "collapsed": false,
    "is_executing": true,
    "jupyter": {
     "outputs_hidden": false
    }
   },
   "outputs": [],
   "source": [
    "a = 1\n",
    "if a = 1:\n",
    "    print(1)"
   ]
  },
  {
   "cell_type": "markdown",
   "id": "967f9befdf4d11c0",
   "metadata": {
    "collapsed": false,
    "jupyter": {
     "outputs_hidden": false
    }
   },
   "source": [
    "5. Is 0.1 + 0.2 == 0.3?"
   ]
  },
  {
   "cell_type": "code",
   "execution_count": 4,
   "id": "f5b97a1563bc1aed",
   "metadata": {
    "collapsed": false,
    "is_executing": true,
    "jupyter": {
     "outputs_hidden": false
    }
   },
   "outputs": [
    {
     "name": "stdout",
     "output_type": "stream",
     "text": [
      "False\n"
     ]
    }
   ],
   "source": [
    "print((0.1 + 0.2 == 0.3))"
   ]
  },
  {
   "cell_type": "markdown",
   "id": "4312e6c4e4075001",
   "metadata": {
    "collapsed": false,
    "jupyter": {
     "outputs_hidden": false
    }
   },
   "source": [
    "# Conditional Statement"
   ]
  },
  {
   "cell_type": "markdown",
   "id": "c46d12f442a98f36",
   "metadata": {
    "collapsed": false,
    "jupyter": {
     "outputs_hidden": false
    }
   },
   "source": [
    "6. What is a code block in Python?\n",
    "\n",
    "   在 Python 中，什么是代码块？"
   ]
  },
  {
   "cell_type": "code",
   "execution_count": 6,
   "id": "eb4d65357476f3b8",
   "metadata": {
    "collapsed": false,
    "jupyter": {
     "outputs_hidden": false
    }
   },
   "outputs": [
    {
     "ename": "IndentationError",
     "evalue": "unexpected indent (4082968449.py, line 4)",
     "output_type": "error",
     "traceback": [
      "\u001b[1;36m  Cell \u001b[1;32mIn[6], line 4\u001b[1;36m\u001b[0m\n\u001b[1;33m    print(2)\u001b[0m\n\u001b[1;37m    ^\u001b[0m\n\u001b[1;31mIndentationError\u001b[0m\u001b[1;31m:\u001b[0m unexpected indent\n"
     ]
    }
   ],
   "source": [
    "a = 1\n",
    "if a == 1:\n",
    "    print(1)\n",
    "        print(2)"
   ]
  },
  {
   "cell_type": "markdown",
   "id": "fb94cb0b5b74d018",
   "metadata": {
    "collapsed": false,
    "jupyter": {
     "outputs_hidden": false
    }
   },
   "source": [
    "# Identity Operator | 身份运算符"
   ]
  },
  {
   "cell_type": "markdown",
   "id": "94b943480a4a8f38",
   "metadata": {
    "collapsed": false,
    "jupyter": {
     "outputs_hidden": false
    }
   },
   "source": [
    "7. Deos 1 \"is\" 1.0 in Python?"
   ]
  },
  {
   "cell_type": "code",
   "execution_count": 5,
   "id": "510a57e1f8c9e158",
   "metadata": {
    "collapsed": false,
    "is_executing": true,
    "jupyter": {
     "outputs_hidden": false
    }
   },
   "outputs": [
    {
     "name": "stdout",
     "output_type": "stream",
     "text": [
      "True\n"
     ]
    }
   ],
   "source": [
    "print((1 == 1.0))"
   ]
  },
  {
   "cell_type": "markdown",
   "id": "224de44a478ff815",
   "metadata": {
    "collapsed": false,
    "jupyter": {
     "outputs_hidden": false
    }
   },
   "source": [
    "# Pseudocode"
   ]
  },
  {
   "cell_type": "markdown",
   "id": "6b80d48a64265f07",
   "metadata": {
    "collapsed": false,
    "jupyter": {
     "outputs_hidden": false
    }
   },
   "source": [
    "8. Write pseudocode of the text below"
   ]
  },
  {
   "cell_type": "code",
   "execution_count": null,
   "id": "63d24083ea219550",
   "metadata": {
    "collapsed": false,
    "jupyter": {
     "outputs_hidden": false
    }
   },
   "outputs": [],
   "source": [
    "\"\"\"\n",
    "某程序员出门上班，他老婆对他说：\n",
    "“晚上回来买一个西瓜，如果看到西红柿，就买两个。”\n",
    "于是程序员回来的时候，买了两个西瓜\n",
    "\"\"\"\n",
    "#程序员视角\n",
    "buy -> 西瓜\n",
    "if 看到 -> 西红柿\n",
    "    buy -> 两个西瓜\n",
    "else buy -> 一个\n",
    "#老婆视角\n",
    "if 看到 -> 西红柿\n",
    "    buy -> 两个西红柿"
   ]
  }
 ],
 "metadata": {
  "kernelspec": {
   "display_name": "Python 3 (ipykernel)",
   "language": "python",
   "name": "python3"
  },
  "language_info": {
   "codemirror_mode": {
    "name": "ipython",
    "version": 3
   },
   "file_extension": ".py",
   "mimetype": "text/x-python",
   "name": "python",
   "nbconvert_exporter": "python",
   "pygments_lexer": "ipython3",
   "version": "3.9.0"
  }
 },
 "nbformat": 4,
 "nbformat_minor": 5
}
