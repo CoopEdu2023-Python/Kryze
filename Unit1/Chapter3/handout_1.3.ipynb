{
 "cells": [
  {
   "cell_type": "markdown",
   "id": "8299611a9fb0b24d",
   "metadata": {
    "collapsed": false,
    "jupyter": {
     "outputs_hidden": false
    }
   },
   "source": [
    "1. input()"
   ]
  },
  {
   "cell_type": "code",
   "execution_count": null,
   "id": "initial_id",
   "metadata": {
    "scrolled": true
   },
   "outputs": [],
   "source": [
    "input()"
   ]
  },
  {
   "cell_type": "code",
   "execution_count": null,
   "id": "f6d1b59b6b1f4399",
   "metadata": {
    "collapsed": false,
    "jupyter": {
     "outputs_hidden": false
    }
   },
   "outputs": [],
   "source": [
    "user_input = input()  # input \"abc\"\n",
    "print(user_input)"
   ]
  },
  {
   "cell_type": "code",
   "execution_count": null,
   "id": "dd75516fac740003",
   "metadata": {
    "collapsed": false,
    "jupyter": {
     "outputs_hidden": false
    }
   },
   "outputs": [],
   "source": [
    "num1 = input()  # input 1\n",
    "num2 = input()  # input 2\n",
    "sum = num1 + num2\n",
    "print(sum)"
   ]
  },
  {
   "cell_type": "code",
   "execution_count": null,
   "id": "e25fe59b828c1778",
   "metadata": {
    "collapsed": false,
    "jupyter": {
     "outputs_hidden": false
    }
   },
   "outputs": [],
   "source": [
    "a, b = input()\n",
    "print(a, b)"
   ]
  },
  {
   "cell_type": "markdown",
   "id": "c5f57dedcebb2446",
   "metadata": {
    "collapsed": false,
    "jupyter": {
     "outputs_hidden": false
    }
   },
   "source": [
    "2. print(*objects, sep=' ', end='\\n', file=sys.stdout, flush=False)"
   ]
  },
  {
   "cell_type": "code",
   "execution_count": null,
   "id": "294adc2c7c286977",
   "metadata": {
    "collapsed": false,
    "jupyter": {
     "outputs_hidden": false
    }
   },
   "outputs": [],
   "source": [
    "num1, num2, num3 = 1, 2, 3\n",
    "print(num1, num2, num3, sep=\"|\", end = ' ')\n",
    "print(num1, num2, num3, sep=\"|\", end = '!')"
   ]
  },
  {
   "cell_type": "markdown",
   "id": "bcc42803551f6a99",
   "metadata": {
    "collapsed": false,
    "jupyter": {
     "outputs_hidden": false
    }
   },
   "source": [
    "3. format string (classic)"
   ]
  },
  {
   "cell_type": "code",
   "execution_count": null,
   "id": "59afc866cff3df33",
   "metadata": {
    "collapsed": false,
    "jupyter": {
     "outputs_hidden": false
    }
   },
   "outputs": [],
   "source": [
    "print(\"My name is %s\" % \"Kros\")\n",
    "print(\"My IQ is %d\" % 9)\n",
    "print(\"My EQ is %f\" % 99.9)"
   ]
  },
  {
   "cell_type": "code",
   "execution_count": null,
   "id": "502c0fc8f6f4dc2c",
   "metadata": {
    "collapsed": false,
    "jupyter": {
     "outputs_hidden": false
    }
   },
   "outputs": [],
   "source": [
    "print(\"My IQ is %1.2f\" % 9)\n",
    "print(\"My EQ is %.2f\" % 99.9)"
   ]
  },
  {
   "cell_type": "code",
   "execution_count": null,
   "id": "b739025ccd99b556",
   "metadata": {
    "collapsed": false,
    "jupyter": {
     "outputs_hidden": false
    }
   },
   "outputs": [],
   "source": [
    "print('%.2f' % 0.123456789)\n",
    "print('%5.2f' % 0.123456789)\n",
    "print('%+5.2f' % 0.123456789)\n",
    "print('%-5.2f' % 0.123456789)\n",
    "print('%05.2f' % 0.123456789)"
   ]
  },
  {
   "cell_type": "markdown",
   "id": "e4629f3d5d9750ad",
   "metadata": {
    "collapsed": false,
    "jupyter": {
     "outputs_hidden": false
    }
   },
   "source": [
    "4. format string (new in 2.6)"
   ]
  },
  {
   "cell_type": "code",
   "execution_count": null,
   "id": "b0c2292cacbdd925",
   "metadata": {
    "collapsed": false,
    "jupyter": {
     "outputs_hidden": false
    }
   },
   "outputs": [],
   "source": [
    "a, b = 1, \"a\"\n"
   ]
  },
  {
   "cell_type": "code",
   "execution_count": null,
   "id": "20edbf18299a0c72",
   "metadata": {
    "collapsed": false,
    "jupyter": {
     "outputs_hidden": false
    }
   },
   "outputs": [],
   "source": [
    "a, b = 1, \"a\"\n"
   ]
  },
  {
   "cell_type": "markdown",
   "id": "75f8a32a34366e4c",
   "metadata": {
    "collapsed": false,
    "jupyter": {
     "outputs_hidden": false
    }
   },
   "source": [
    "5. format string (new in 3.6)"
   ]
  },
  {
   "cell_type": "code",
   "execution_count": null,
   "id": "1ebf47add35a4a9",
   "metadata": {
    "collapsed": false,
    "jupyter": {
     "outputs_hidden": false
    }
   },
   "outputs": [],
   "source": [
    "a, b = 1, \"a\"\n"
   ]
  },
  {
   "cell_type": "code",
   "execution_count": null,
   "id": "128bd9bf22232b3d",
   "metadata": {
    "collapsed": false,
    "jupyter": {
     "outputs_hidden": false
    }
   },
   "outputs": [],
   "source": [
    "a, b = 1, \"a\"\n"
   ]
  }
 ],
 "metadata": {
  "kernelspec": {
   "display_name": "Python 3 (ipykernel)",
   "language": "python",
   "name": "python3"
  },
  "language_info": {
   "codemirror_mode": {
    "name": "ipython",
    "version": 3
   },
   "file_extension": ".py",
   "mimetype": "text/x-python",
   "name": "python",
   "nbconvert_exporter": "python",
   "pygments_lexer": "ipython3",
   "version": "3.9.0"
  }
 },
 "nbformat": 4,
 "nbformat_minor": 5
}
