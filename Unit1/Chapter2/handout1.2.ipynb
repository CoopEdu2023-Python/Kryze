{
 "cells": [
  {
   "cell_type": "markdown",
   "id": "60487554910dd7c2",
   "metadata": {
    "collapsed": false,
    "jupyter": {
     "outputs_hidden": false
    }
   },
   "source": [
    "# Arithmetic Operators | 算数运算符"
   ]
  },
  {
   "cell_type": "markdown",
   "id": "3706b3d855b0f731",
   "metadata": {
    "collapsed": false,
    "jupyter": {
     "outputs_hidden": false
    }
   },
   "source": [
    "1. Calculation between integer and integer | 整型计算\n",
    "   \n",
    "    2 // 2 = ?\n",
    "   \n",
    "    2 / 2 = ?"
   ]
  },
  {
   "cell_type": "code",
   "execution_count": 1,
   "id": "initial_id",
   "metadata": {
    "ExecuteTime": {
     "end_time": "2023-09-15T05:52:09.677810Z",
     "start_time": "2023-09-15T05:52:09.555350Z"
    }
   },
   "outputs": [
    {
     "name": "stdout",
     "output_type": "stream",
     "text": [
      "1\n",
      "1.0\n"
     ]
    }
   ],
   "source": [
    "print(2 // 2)\n",
    "print(2 / 2)"
   ]
  },
  {
   "cell_type": "markdown",
   "id": "7316bc563a9f37b0",
   "metadata": {
    "collapsed": false,
    "jupyter": {
     "outputs_hidden": false
    }
   },
   "source": [
    "2. Calculation between float and float | 浮点型计算\n",
    "   \n",
    "    0.1 + 0.1 = ?\n",
    "   \n",
    "    0.1 + 0.2 = ?\n",
    "   \n",
    "    0.1 * 0.2 = ?\n",
    "   \n",
    "    0.1 / 0.2 = ?"
   ]
  },
  {
   "cell_type": "code",
   "execution_count": 2,
   "id": "69a3d16c5d994ab8",
   "metadata": {
    "ExecuteTime": {
     "end_time": "2023-09-15T05:52:09.680483Z",
     "start_time": "2023-09-15T05:52:09.558123Z"
    },
    "collapsed": false,
    "jupyter": {
     "outputs_hidden": false
    }
   },
   "outputs": [
    {
     "name": "stdout",
     "output_type": "stream",
     "text": [
      "0.2\n",
      "0.30000000000000004\n",
      "0.020000000000000004\n",
      "0.5\n"
     ]
    }
   ],
   "source": [
    "print(0.1 + 0.1)\n",
    "print(0.1 + 0.2)\n",
    "print(0.1 * 0.2)\n",
    "print(0.1 / 0.2)"
   ]
  },
  {
   "cell_type": "markdown",
   "id": "2b4b59f0c96324a1",
   "metadata": {
    "collapsed": false,
    "jupyter": {
     "outputs_hidden": false
    }
   },
   "source": [
    "3. Calculation between integer and float | 整型和浮点型计算\n",
    "   \n",
    "    1 + 0.1 = ?\n",
    "   \n",
    "    1 + 0.1 + 0.2 = ?\n",
    "   \n",
    "    1 + 0.1 + 0.2 + 0.01 = ?\n",
    "   \n",
    "    1 + 0.1 + 0.2 + 1 = ?\n",
    "   \n",
    "    1 + 0.1 + 1 + 0.2 = ?"
   ]
  },
  {
   "cell_type": "code",
   "execution_count": 3,
   "id": "e63fd52bf8c5027e",
   "metadata": {
    "ExecuteTime": {
     "end_time": "2023-09-15T05:52:09.693926Z",
     "start_time": "2023-09-15T05:52:09.566420Z"
    },
    "collapsed": false,
    "jupyter": {
     "outputs_hidden": false
    }
   },
   "outputs": [
    {
     "name": "stdout",
     "output_type": "stream",
     "text": [
      "1.1\n",
      "1.3\n",
      "1.31\n",
      "2.3\n",
      "2.3000000000000003\n"
     ]
    }
   ],
   "source": [
    "print(1 + 0.1)\n",
    "print(1 + 0.1 + 0.2)\n",
    "print(1 + 0.1 + 0.2 + 0.01)\n",
    "print(1 + 0.1 + 0.2 + 1)\n",
    "print(1 + 0.1 + 1 + 0.2)"
   ]
  },
  {
   "cell_type": "markdown",
   "id": "a77d99a4e342d8e0",
   "metadata": {
    "collapsed": false,
    "jupyter": {
     "outputs_hidden": false
    }
   },
   "source": [
    "4. Modulus | 模运算\n",
    "\n",
    "    1 % 2 = ?\n",
    "   \n",
    "    2 % 1 = ?\n",
    "   \n",
    "    1.5 % 3 = ?\n",
    "   \n",
    "    3.0 % 5 = ?"
   ]
  },
  {
   "cell_type": "code",
   "execution_count": 5,
   "id": "d0169fb81d3118af",
   "metadata": {
    "ExecuteTime": {
     "end_time": "2023-09-15T05:52:09.694566Z",
     "start_time": "2023-09-15T05:52:09.569719Z"
    },
    "collapsed": false,
    "jupyter": {
     "outputs_hidden": false
    }
   },
   "outputs": [],
   "source": [
    "print(1 % 2)\n",
    "print(2 % 1)\n",
    "print(1.5 % 3)\n",
    "print(3.0 % 5)"
   ]
  },
  {
   "cell_type": "markdown",
   "id": "fc067606f896ea1c",
   "metadata": {
    "collapsed": false,
    "jupyter": {
     "outputs_hidden": false
    }
   },
   "source": [
    "5. Exponentiation | 幂运算\n",
    "\n",
    "    2 ** 3 = ?\n",
    "    \n",
    "    2.0 ** 3 = ?\n",
    "    \n",
    "    0.2 ** 3 = ?\n",
    "    \n",
    "    2 ** 0.5 = ?\n",
    "    \n",
    "    2 ** -1 = ?\n",
    "    \n",
    "    2 ** 2 ** 2 = ?"
   ]
  },
  {
   "cell_type": "code",
   "execution_count": 4,
   "id": "dd25ba275b9255b7",
   "metadata": {
    "ExecuteTime": {
     "end_time": "2023-09-15T05:52:09.711806Z",
     "start_time": "2023-09-15T05:52:09.575846Z"
    },
    "collapsed": false,
    "jupyter": {
     "outputs_hidden": false
    }
   },
   "outputs": [
    {
     "name": "stdout",
     "output_type": "stream",
     "text": [
      "8\n",
      "8.0\n",
      "0.008000000000000002\n",
      "1.4142135623730951\n",
      "0.5\n",
      "16\n"
     ]
    }
   ],
   "source": [
    "print(2 ** 3)\n",
    "print(2.0 ** 3)\n",
    "print(0.2 ** 3)\n",
    "print(2 ** 0.5)\n",
    "print(2 ** -1)\n",
    "print(2 ** 2 ** 2)"
   ]
  },
  {
   "cell_type": "markdown",
   "id": "e809aead5c6c26ce",
   "metadata": {
    "collapsed": false,
    "jupyter": {
     "outputs_hidden": false
    }
   },
   "source": [
    "6. Integer division | 取整运算\n",
    "\n",
    "    5 // 2 = ?\n",
    "    \n",
    "    2 // 5 = ?\n",
    "    \n",
    "    2 // 0.5 = ?\n",
    "    \n",
    "    2 // 0.3 = ?"
   ]
  },
  {
   "cell_type": "code",
   "execution_count": 5,
   "id": "cd4012d25dafae0a",
   "metadata": {
    "ExecuteTime": {
     "end_time": "2023-09-15T05:52:09.712540Z",
     "start_time": "2023-09-15T05:52:09.581270Z"
    },
    "collapsed": false,
    "jupyter": {
     "outputs_hidden": false
    }
   },
   "outputs": [
    {
     "name": "stdout",
     "output_type": "stream",
     "text": [
      "2\n",
      "0\n",
      "4.0\n",
      "6.0\n"
     ]
    }
   ],
   "source": [
    "print(5 // 2)\n",
    "print(2 // 5)\n",
    "print(2 // 0.5)\n",
    "print(2 // 0.3)"
   ]
  },
  {
   "cell_type": "markdown",
   "id": "f343d54ebf2aaa90",
   "metadata": {
    "collapsed": false,
    "jupyter": {
     "outputs_hidden": false
    }
   },
   "source": [
    "# KEY POINT | 重点\n",
    "\n",
    "In Python, calculations between different types follow a rule called ()\n",
    "\n",
    "Python 中，不同类型之间进行计算，遵循（）规则"
   ]
  },
  {
   "cell_type": "markdown",
   "id": "562bf60935155edd",
   "metadata": {
    "collapsed": false,
    "jupyter": {
     "outputs_hidden": false
    }
   },
   "source": [
    "7. Calculation between string and string | 字符串间计算\n",
    "\n",
    "    \"123\" + \"456\" = ?\n",
    "    \n",
    "    \"123\" - \"456\" = ?\n",
    "    \n",
    "    \"123\" * \"456\" = ?\n",
    "    \n",
    "    \"123\" / \"456\" = ?"
   ]
  },
  {
   "cell_type": "code",
   "execution_count": 8,
   "id": "8123a585412c99bf",
   "metadata": {
    "ExecuteTime": {
     "end_time": "2023-09-15T05:52:09.713102Z",
     "start_time": "2023-09-15T05:52:09.591555Z"
    },
    "collapsed": false,
    "jupyter": {
     "outputs_hidden": false
    }
   },
   "outputs": [
    {
     "name": "stdout",
     "output_type": "stream",
     "text": [
      "123456\n"
     ]
    }
   ],
   "source": [
    "print(\"123\" + \"456\")\n",
    "#print(\"123\" - \"456\")\n",
    "#print(\"123\" * \"456\")\n",
    "#print(\"123\" / \"456\")"
   ]
  },
  {
   "cell_type": "markdown",
   "id": "6ece7f72c914c55",
   "metadata": {
    "collapsed": false,
    "jupyter": {
     "outputs_hidden": false
    }
   },
   "source": [
    "8. Calculation between string and integer | 字符串和整型计算\n",
    "\n",
    "    \"123\" + 3 = ?\n",
    "    \n",
    "    \"123\" - 3 = ?\n",
    "    \n",
    "    \"123\" * 3 = ?\n",
    "    \n",
    "    \"123\" / 3 = ?"
   ]
  },
  {
   "cell_type": "code",
   "execution_count": 12,
   "id": "01984634-0e67-4dd4-bacc-330c26b50478",
   "metadata": {},
   "outputs": [
    {
     "name": "stdout",
     "output_type": "stream",
     "text": [
      "123123123\n"
     ]
    }
   ],
   "source": [
    "#print(\"123\" + 3)\n",
    "#print(\"123\" - 3)\n",
    "print(\"123\" * 3)\n",
    "#print(\"123\" / 3)"
   ]
  },
  {
   "cell_type": "markdown",
   "id": "a2d7249d59a3f759",
   "metadata": {
    "collapsed": false,
    "jupyter": {
     "outputs_hidden": false
    }
   },
   "source": [
    "# Assignment Operators | 赋值运算符"
   ]
  },
  {
   "cell_type": "markdown",
   "id": "903f6020f3ae76e1",
   "metadata": {
    "collapsed": false,
    "jupyter": {
     "outputs_hidden": false
    }
   },
   "source": [
    "9. Syntactic sugar | 语法糖\n",
    "\n",
    "    a = 1\n",
    "    \n",
    "    b = 1\n",
    "    \n",
    "    c = 2.0\n",
    "    \n",
    "    d = '3'\n",
    "    \n",
    "    e = True"
   ]
  },
  {
   "cell_type": "code",
   "execution_count": 14,
   "id": "ee76557699e15876",
   "metadata": {
    "ExecuteTime": {
     "end_time": "2023-09-15T05:52:09.713628Z",
     "start_time": "2023-09-15T05:52:09.605181Z"
    },
    "collapsed": false,
    "jupyter": {
     "outputs_hidden": false
    }
   },
   "outputs": [],
   "source": [
    "a = 1\n",
    "b = 1\n",
    "c = 2.0\n",
    "d = '3'\n",
    "e = True"
   ]
  },
  {
   "cell_type": "markdown",
   "id": "47bf3d5b6e74e8ae",
   "metadata": {
    "collapsed": false,
    "jupyter": {
     "outputs_hidden": false
    }
   },
   "source": [
    "9. Equivalent operation | 等效运算\n",
    "\n",
    "    a //= b ➡️ ?"
   ]
  },
  {
   "cell_type": "code",
   "execution_count": 16,
   "id": "5cc2b7b53115542d",
   "metadata": {
    "ExecuteTime": {
     "end_time": "2023-09-15T05:52:09.715013Z",
     "start_time": "2023-09-15T05:52:09.655415Z"
    },
    "collapsed": false,
    "jupyter": {
     "outputs_hidden": false
    }
   },
   "outputs": [
    {
     "name": "stdout",
     "output_type": "stream",
     "text": [
      "0 2\n"
     ]
    }
   ],
   "source": [
    "a = 1\n",
    "b = 2\n",
    "a = a // b  # rewrite this line\n",
    "print(a, b)"
   ]
  },
  {
   "cell_type": "markdown",
   "id": "9f2a6b6487ff41ae",
   "metadata": {
    "collapsed": false,
    "jupyter": {
     "outputs_hidden": false
    }
   },
   "source": [
    "# Bitwise Operators | 位移运算符"
   ]
  },
  {
   "cell_type": "code",
   "execution_count": 7,
   "id": "6f66b224ee9f3bda",
   "metadata": {
    "ExecuteTime": {
     "end_time": "2023-09-15T05:52:09.715140Z",
     "start_time": "2023-09-15T05:52:09.658777Z"
    },
    "collapsed": false,
    "jupyter": {
     "outputs_hidden": false
    }
   },
   "outputs": [
    {
     "name": "stdout",
     "output_type": "stream",
     "text": [
      "4\n"
     ]
    }
   ],
   "source": [
    "print(1 << 2)\n",
    " <- 0000 0001\n",
    "    0000 0100"
   ]
  },
  {
   "cell_type": "markdown",
   "id": "3993137dfa5c7f23",
   "metadata": {
    "collapsed": false,
    "jupyter": {
     "outputs_hidden": false
    }
   },
   "source": [
    "# Membership Operators | 成员运算符"
   ]
  },
  {
   "cell_type": "code",
   "execution_count": 8,
   "id": "b157637aeab1b5ab",
   "metadata": {
    "ExecuteTime": {
     "end_time": "2023-09-15T05:52:09.715827Z",
     "start_time": "2023-09-15T05:52:09.663213Z"
    },
    "collapsed": false,
    "jupyter": {
     "outputs_hidden": false
    }
   },
   "outputs": [
    {
     "name": "stdout",
     "output_type": "stream",
     "text": [
      "True\n"
     ]
    }
   ],
   "source": [
    "a = 1\n",
    "b = 1\n",
    "print(a is b)"
   ]
  }
 ],
 "metadata": {
  "kernelspec": {
   "display_name": "Python 3 (ipykernel)",
   "language": "python",
   "name": "python3"
  },
  "language_info": {
   "codemirror_mode": {
    "name": "ipython",
    "version": 3
   },
   "file_extension": ".py",
   "mimetype": "text/x-python",
   "name": "python",
   "nbconvert_exporter": "python",
   "pygments_lexer": "ipython3",
   "version": "3.9.0"
  }
 },
 "nbformat": 4,
 "nbformat_minor": 5
}
