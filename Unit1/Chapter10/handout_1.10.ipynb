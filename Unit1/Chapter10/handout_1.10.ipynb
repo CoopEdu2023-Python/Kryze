{
 "cells": [
  {
   "cell_type": "markdown",
   "id": "b9d08104e194e7ef",
   "metadata": {
    "collapsed": false
   },
   "source": [
    "# Built-in functions | 内置函数"
   ]
  },
  {
   "cell_type": "markdown",
   "id": "18aebb1d0a9e7cd6",
   "metadata": {
    "collapsed": false
   },
   "source": [
    "1. Find the documentation for built-in functions in the Python documentation.\n",
    "\n",
    "    在 Python 官方文档中找到对内置函数的说明"
   ]
  },
  {
   "cell_type": "code",
   "execution_count": null,
   "id": "47bf885d55dba72b",
   "metadata": {
    "collapsed": false
   },
   "outputs": [],
   "source": [
    "# https://docs.python.org/3/library/functions.html"
   ]
  },
  {
   "cell_type": "markdown",
   "id": "54060191d9c0a077",
   "metadata": {
    "collapsed": false
   },
   "source": [
    "2. Print all builtin functions in Python\n",
    "\n",
    "    打印所有内置函数"
   ]
  },
  {
   "cell_type": "code",
   "execution_count": null,
   "id": "initial_id",
   "metadata": {
    "collapsed": false
   },
   "outputs": [],
   "source": [
    "print(dir(__builtins__))"
   ]
  }
 ],
 "metadata": {
  "kernelspec": {
   "display_name": "Python 3",
   "language": "python",
   "name": "python3"
  },
  "language_info": {
   "codemirror_mode": {
    "name": "ipython",
    "version": 2
   },
   "file_extension": ".py",
   "mimetype": "text/x-python",
   "name": "python",
   "nbconvert_exporter": "python",
   "pygments_lexer": "ipython2",
   "version": "3.9.0"
  }
 },
 "nbformat": 4,
 "nbformat_minor": 5
}
