{
 "cells": [
  {
   "cell_type": "markdown",
   "id": "db782d71159a5492",
   "metadata": {
    "collapsed": false
   },
   "source": [
    "# set | 集合"
   ]
  },
  {
   "cell_type": "markdown",
   "id": "29c5aa72fe279ff3",
   "metadata": {
    "collapsed": false
   },
   "source": [
    "1. Print all functions of set\n",
    "\n",
    "    打印所有集合的方法"
   ]
  },
  {
   "cell_type": "code",
   "execution_count": 1,
   "id": "2fac2bd9d151857a",
   "metadata": {
    "collapsed": false
   },
   "outputs": [
    {
     "name": "stdout",
     "output_type": "stream",
     "text": [
      "['__and__', '__class__', '__class_getitem__', '__contains__', '__delattr__', '__dir__', '__doc__', '__eq__', '__format__', '__ge__', '__getattribute__', '__gt__', '__hash__', '__iand__', '__init__', '__init_subclass__', '__ior__', '__isub__', '__iter__', '__ixor__', '__le__', '__len__', '__lt__', '__ne__', '__new__', '__or__', '__rand__', '__reduce__', '__reduce_ex__', '__repr__', '__ror__', '__rsub__', '__rxor__', '__setattr__', '__sizeof__', '__str__', '__sub__', '__subclasshook__', '__xor__', 'add', 'clear', 'copy', 'difference', 'difference_update', 'discard', 'intersection', 'intersection_update', 'isdisjoint', 'issubset', 'issuperset', 'pop', 'remove', 'symmetric_difference', 'symmetric_difference_update', 'union', 'update']\n"
     ]
    }
   ],
   "source": [
    "print(dir(set))"
   ]
  },
  {
   "cell_type": "markdown",
   "id": "675f30b3e9ea1777",
   "metadata": {
    "collapsed": false
   },
   "source": [
    "2. Use 3 same numbers to create a set\n",
    "\n",
    "    在定义中使用 3 个同样的数字创建一个集合"
   ]
  },
  {
   "cell_type": "code",
   "execution_count": 2,
   "id": "initial_id",
   "metadata": {
    "collapsed": true
   },
   "outputs": [],
   "source": [
    "s = {1, 1, 1}"
   ]
  },
  {
   "cell_type": "markdown",
   "id": "527efe26df49a52f",
   "metadata": {
    "collapsed": false
   },
   "source": [
    "3. Find the intersection of two sets\n",
    "\n",
    "    求两个集合的交集"
   ]
  },
  {
   "cell_type": "code",
   "execution_count": 4,
   "id": "39ccfd36fe81b6fe",
   "metadata": {
    "collapsed": false
   },
   "outputs": [
    {
     "name": "stdout",
     "output_type": "stream",
     "text": [
      "{2, 3}\n"
     ]
    }
   ],
   "source": [
    "set_a = {1, 2, 3}\n",
    "set_b = {2, 3, 4}\n",
    "set_c = set_a.intersection(set_b)\n",
    "set_c = set_a & set_b\n",
    "print(set_c)"
   ]
  },
  {
   "cell_type": "markdown",
   "id": "c7f593cd7622204d",
   "metadata": {
    "collapsed": false
   },
   "source": [
    "4. Find the union of two sets.\n",
    "\n",
    "    求两个集合的并集"
   ]
  },
  {
   "cell_type": "code",
   "execution_count": 6,
   "id": "4a86a0dee80b25e0",
   "metadata": {
    "collapsed": false
   },
   "outputs": [
    {
     "name": "stdout",
     "output_type": "stream",
     "text": [
      "{1, 2, 3, 4}\n"
     ]
    }
   ],
   "source": [
    "set_a = {1, 2, 3}\n",
    "set_b = {2, 3, 4}\n",
    "set_c = set_a | set_b\n",
    "print(set_c)"
   ]
  },
  {
   "cell_type": "markdown",
   "id": "6008b735185be22f",
   "metadata": {
    "collapsed": false
   },
   "source": [
    "5. 求两个集合的补集"
   ]
  },
  {
   "cell_type": "code",
   "execution_count": 7,
   "id": "ba51231aa78f729a",
   "metadata": {
    "collapsed": false
   },
   "outputs": [
    {
     "name": "stdout",
     "output_type": "stream",
     "text": [
      "{1}\n"
     ]
    }
   ],
   "source": [
    "set_a = {1, 2, 3}\n",
    "set_b = {2, 3, 4}\n",
    "set_c = set_a - set_b\n",
    "print(set_c)"
   ]
  },
  {
   "cell_type": "markdown",
   "id": "555baf1c34b7723c",
   "metadata": {
    "collapsed": false
   },
   "source": [
    "# dict | 字典"
   ]
  },
  {
   "cell_type": "markdown",
   "id": "4beb08a8ab17e326",
   "metadata": {
    "collapsed": false
   },
   "source": [
    "6. Print all functions of dict\n",
    "\n",
    "    打印所有字典的方法"
   ]
  },
  {
   "cell_type": "code",
   "execution_count": 8,
   "id": "b5f3da1eb05a7a40",
   "metadata": {
    "collapsed": false
   },
   "outputs": [
    {
     "name": "stdout",
     "output_type": "stream",
     "text": [
      "['__class__', '__class_getitem__', '__contains__', '__delattr__', '__delitem__', '__dir__', '__doc__', '__eq__', '__format__', '__ge__', '__getattribute__', '__getitem__', '__gt__', '__hash__', '__init__', '__init_subclass__', '__ior__', '__iter__', '__le__', '__len__', '__lt__', '__ne__', '__new__', '__or__', '__reduce__', '__reduce_ex__', '__repr__', '__reversed__', '__ror__', '__setattr__', '__setitem__', '__sizeof__', '__str__', '__subclasshook__', 'clear', 'copy', 'fromkeys', 'get', 'items', 'keys', 'pop', 'popitem', 'setdefault', 'update', 'values']\n"
     ]
    }
   ],
   "source": [
    "print(dir(dict))"
   ]
  },
  {
   "cell_type": "markdown",
   "id": "3d5976d4e18ac726",
   "metadata": {
    "collapsed": false
   },
   "source": [
    "7. 3 ways to traverse dict\n",
    "\n",
    "    3 种遍历字典的方法"
   ]
  },
  {
   "cell_type": "code",
   "execution_count": 12,
   "id": "420fc3168fe5ef9a",
   "metadata": {
    "collapsed": false
   },
   "outputs": [
    {
     "name": "stdout",
     "output_type": "stream",
     "text": [
      "1\n",
      "3\n",
      "2\n",
      "4\n",
      "1\n",
      "3\n"
     ]
    }
   ],
   "source": [
    "dict_5 = {1:2, 3:4}\n",
    "#1\n",
    "for k in dict_5.keys():\n",
    "    print(k)\n",
    "#2\n",
    "for v in dict_5.values():\n",
    "    print(v)\n",
    "#3\n",
    "for i in dict_5:\n",
    "    print(i)"
   ]
  }
 ],
 "metadata": {
  "kernelspec": {
   "display_name": "Python 3",
   "language": "python",
   "name": "python3"
  },
  "language_info": {
   "codemirror_mode": {
    "name": "ipython",
    "version": 3
   },
   "file_extension": ".py",
   "mimetype": "text/x-python",
   "name": "python",
   "nbconvert_exporter": "python",
   "pygments_lexer": "ipython3",
   "version": "3.9.0"
  }
 },
 "nbformat": 4,
 "nbformat_minor": 5
}
