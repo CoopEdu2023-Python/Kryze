{
 "cells": [
  {
   "cell_type": "markdown",
   "id": "83ce7625fa5543ab",
   "metadata": {
    "collapsed": false
   },
   "source": [
    "# str | 字符串"
   ]
  },
  {
   "cell_type": "markdown",
   "id": "f66cb7ebaa0b3df5",
   "metadata": {
    "collapsed": false
   },
   "source": [
    "1. Print all string methods that do not start with `__`\n",
    "\n",
    "    打印所有不以下划线开头的字符串的方法"
   ]
  },
  {
   "cell_type": "code",
   "execution_count": 5,
   "id": "initial_id",
   "metadata": {
    "collapsed": true
   },
   "outputs": [
    {
     "name": "stdout",
     "output_type": "stream",
     "text": [
      "1 capitalize\n",
      "2 casefold\n",
      "3 center\n",
      "4 count\n",
      "5 encode\n",
      "6 endswith\n",
      "7 expandtabs\n",
      "8 find\n",
      "9 format\n",
      "10 format_map\n",
      "11 index\n",
      "12 isalnum\n",
      "13 isalpha\n",
      "14 isascii\n",
      "15 isdecimal\n",
      "16 isdigit\n",
      "17 isidentifier\n",
      "18 islower\n",
      "19 isnumeric\n",
      "20 isprintable\n",
      "21 isspace\n",
      "22 istitle\n",
      "23 isupper\n",
      "24 join\n",
      "25 ljust\n",
      "26 lower\n",
      "27 lstrip\n",
      "28 maketrans\n",
      "29 partition\n",
      "30 removeprefix\n",
      "31 removesuffix\n",
      "32 replace\n",
      "33 rfind\n",
      "34 rindex\n",
      "35 rjust\n",
      "36 rpartition\n",
      "37 rsplit\n",
      "38 rstrip\n",
      "39 split\n",
      "40 splitlines\n",
      "41 startswith\n",
      "42 strip\n",
      "43 swapcase\n",
      "44 title\n",
      "45 translate\n",
      "46 upper\n",
      "47 zfill\n"
     ]
    }
   ],
   "source": [
    "list = dir(str)\n",
    "s = 0\n",
    "for i in list:\n",
    "    if i[0] != '_':\n",
    "        s += 1\n",
    "        print(s, i)"
   ]
  },
  {
   "cell_type": "markdown",
   "id": "f356aedbd2324dd2",
   "metadata": {
    "collapsed": false
   },
   "source": [
    "2. Choose 10 string method that is not mentioned in the video, explain the usage of each method with code\n",
    "\n",
    "    选择 10 个视频中没有提到的字符串方法，以代码的形式说明它的用法"
   ]
  },
  {
   "cell_type": "code",
   "execution_count": 9,
   "id": "bdb9e983a101a68e",
   "metadata": {
    "collapsed": false
   },
   "outputs": [
    {
     "name": "stdout",
     "output_type": "stream",
     "text": [
      "True\n"
     ]
    }
   ],
   "source": [
    "str = \"hello world\"\n",
    "print(str.endswith(\"d\"))\n",
    "#查看是否以特定字符结尾"
   ]
  },
  {
   "cell_type": "code",
   "execution_count": 11,
   "id": "f752a24c",
   "metadata": {},
   "outputs": [
    {
     "name": "stdout",
     "output_type": "stream",
     "text": [
      "True\n"
     ]
    }
   ],
   "source": [
    "str = \"hello world\"\n",
    "print(str.startswith(\"h\"))\n",
    "#查看是否以特定字符开头"
   ]
  },
  {
   "cell_type": "code",
   "execution_count": 21,
   "id": "080252d4",
   "metadata": {},
   "outputs": [
    {
     "name": "stdout",
     "output_type": "stream",
     "text": [
      "False\n"
     ]
    }
   ],
   "source": [
    "str = \"hello world1\"\n",
    "print(str.isalnum())\n",
    "#判断字符串是否全为数字"
   ]
  },
  {
   "cell_type": "code",
   "execution_count": 23,
   "id": "d7f6fc43",
   "metadata": {},
   "outputs": [
    {
     "name": "stdout",
     "output_type": "stream",
     "text": [
      "True\n"
     ]
    }
   ],
   "source": [
    "str = \"helloworld\"\n",
    "print(str.isalpha())\n",
    "#判断字符串是否全为字母"
   ]
  },
  {
   "cell_type": "code",
   "execution_count": 26,
   "id": "c131cb7c",
   "metadata": {},
   "outputs": [
    {
     "name": "stdout",
     "output_type": "stream",
     "text": [
      "True\n"
     ]
    }
   ],
   "source": [
    "str = \"A1\"\n",
    "print(str.isupper())\n",
    "#判断字符串中字母是否全为大写"
   ]
  },
  {
   "cell_type": "code",
   "execution_count": 27,
   "id": "840c3308",
   "metadata": {},
   "outputs": [
    {
     "name": "stdout",
     "output_type": "stream",
     "text": [
      "True\n"
     ]
    }
   ],
   "source": [
    "str = \"a1\"\n",
    "print(str.islower())\n",
    "#判断字符串中字母是否全为小写"
   ]
  },
  {
   "cell_type": "code",
   "execution_count": 30,
   "id": "ebef4333",
   "metadata": {},
   "outputs": [
    {
     "name": "stdout",
     "output_type": "stream",
     "text": [
      "-1\n",
      "0\n"
     ]
    }
   ],
   "source": [
    "str = \"hello world\"\n",
    "print(str.find(\"world1\", 3))\n",
    "print(str.find(\"hello\", 0))\n",
    "#从指定位置向右查找指定字符串,找不到就是-1"
   ]
  },
  {
   "cell_type": "code",
   "execution_count": 41,
   "id": "4672dd41",
   "metadata": {},
   "outputs": [
    {
     "name": "stdout",
     "output_type": "stream",
     "text": [
      "1ello world\n"
     ]
    }
   ],
   "source": [
    "str = \"hello world\"\n",
    "code = str.maketrans(\"h\", \"1\")\n",
    "print(str.translate(code))\n",
    "#用maketable制作映射表，然后通过映射置换字符"
   ]
  },
  {
   "cell_type": "code",
   "execution_count": 44,
   "id": "8acdf2ef",
   "metadata": {},
   "outputs": [
    {
     "name": "stdout",
     "output_type": "stream",
     "text": [
      "hello world11\n"
     ]
    }
   ],
   "source": [
    "str = \"11hello world11\"\n",
    "print(str.removeprefix(\"11\"))\n",
    "#移除指定字符前缀"
   ]
  },
  {
   "cell_type": "code",
   "execution_count": 46,
   "id": "0bd78285",
   "metadata": {},
   "outputs": [
    {
     "name": "stdout",
     "output_type": "stream",
     "text": [
      "11hello world\n"
     ]
    }
   ],
   "source": [
    "str = \"11hello world11\"\n",
    "print(str.removesuffix(\"11\"))\n",
    "#移除指定字符后缀"
   ]
  },
  {
   "cell_type": "markdown",
   "id": "d1a9b6f386b77110",
   "metadata": {
    "collapsed": false
   },
   "source": [
    "3. `isdecimal`, `isdigit`, `isnumeric` are both used for check if string can convert to number, ask ChatGPT to explain the difference between these methods\n",
    "\n",
    "    `isdecimal`, `isdigit`, `isnumeric` 这三个方法都可以判断字符串是否是数字，让 ChatGPT 解释它们之间的区别"
   ]
  },
  {
   "cell_type": "code",
   "execution_count": 42,
   "id": "6a03ebe00a109ac1",
   "metadata": {
    "collapsed": false
   },
   "outputs": [
    {
     "data": {
      "text/plain": [
       "'\\n\\n'"
      ]
     },
     "execution_count": 42,
     "metadata": {},
     "output_type": "execute_result"
    }
   ],
   "source": [
    "'''\n",
    "isdecimal() 方法：\n",
    "\n",
    "isdecimal() 方法返回True，如果字符串只包含十进制数字（0-9），且长度大于0。\n",
    "它不接受任何参数。\n",
    "这个方法只能检查Unicode数字字符（不包括小数点、分数形式数字等）。\n",
    "\n",
    "\n",
    "isdigit() 方法：\n",
    "\n",
    "isdigit() 方法返回True，如果字符串只包含数字字符（0-9），且长度大于0。\n",
    "类似于isdecimal()，但isdigit() 方法更广泛，因为它可以识别其他数字字符（如Unicode数字字符）。\n",
    "\n",
    "\n",
    "isnumeric() 方法：\n",
    "\n",
    "isnumeric() 方法返回True，如果字符串中的所有字符都是数值字符（包括数字字符、Unicode数字字符、罗马数字、汉字数字等），且长度大于0。\n",
    "是最宽泛的方法，可以识别几乎所有种类的数字字符。\n",
    "'''"
   ]
  }
 ],
 "metadata": {
  "kernelspec": {
   "display_name": "Python 3",
   "language": "python",
   "name": "python3"
  },
  "language_info": {
   "codemirror_mode": {
    "name": "ipython",
    "version": 3
   },
   "file_extension": ".py",
   "mimetype": "text/x-python",
   "name": "python",
   "nbconvert_exporter": "python",
   "pygments_lexer": "ipython3",
   "version": "3.9.0"
  }
 },
 "nbformat": 4,
 "nbformat_minor": 5
}
