{
 "cells": [
  {
   "cell_type": "markdown",
   "id": "e6022f21a27d4512",
   "metadata": {
    "collapsed": false,
    "jupyter": {
     "outputs_hidden": false
    }
   },
   "source": [
    "# list | 列表"
   ]
  },
  {
   "cell_type": "markdown",
   "id": "3375645f7476fdfb",
   "metadata": {
    "collapsed": false,
    "jupyter": {
     "outputs_hidden": false
    }
   },
   "source": [
    "1. Write down all functions of list\n",
    "\n",
    "    写出列表所有的方法"
   ]
  },
  {
   "cell_type": "code",
   "execution_count": 1,
   "id": "59acd940e5dbf09b",
   "metadata": {
    "collapsed": false,
    "jupyter": {
     "outputs_hidden": false
    }
   },
   "outputs": [
    {
     "name": "stdout",
     "output_type": "stream",
     "text": [
      "['__add__', '__class__', '__class_getitem__', '__contains__', '__delattr__', '__delitem__', '__dir__', '__doc__', '__eq__', '__format__', '__ge__', '__getattribute__', '__getitem__', '__gt__', '__hash__', '__iadd__', '__imul__', '__init__', '__init_subclass__', '__iter__', '__le__', '__len__', '__lt__', '__mul__', '__ne__', '__new__', '__reduce__', '__reduce_ex__', '__repr__', '__reversed__', '__rmul__', '__setattr__', '__setitem__', '__sizeof__', '__str__', '__subclasshook__', 'append', 'clear', 'copy', 'count', 'extend', 'index', 'insert', 'pop', 'remove', 'reverse', 'sort']\n"
     ]
    }
   ],
   "source": [
    "print(dir(list))"
   ]
  },
  {
   "cell_type": "markdown",
   "id": "951b5e3760f5f981",
   "metadata": {
    "collapsed": false,
    "jupyter": {
     "outputs_hidden": false
    }
   },
   "source": [
    "2. find of official documentation for the list data type.\n",
    "\n",
    "    找到官方文档对列表的说明"
   ]
  },
  {
   "cell_type": "code",
   "execution_count": null,
   "id": "6e1bfbf8e37c21d",
   "metadata": {
    "collapsed": false,
    "jupyter": {
     "outputs_hidden": false
    }
   },
   "outputs": [],
   "source": [
    "# https://docs.python.org/zh-cn/3/library/stdtypes.html?highlight=list#list"
   ]
  },
  {
   "cell_type": "markdown",
   "id": "4d725011fbf2aa93",
   "metadata": {
    "collapsed": false,
    "jupyter": {
     "outputs_hidden": false
    }
   },
   "source": [
    "3. Define and print a list\n",
    "\n",
    "    定义并打印一个列表"
   ]
  },
  {
   "cell_type": "code",
   "execution_count": 2,
   "id": "a5a48a30bfb0be48",
   "metadata": {
    "collapsed": false,
    "jupyter": {
     "outputs_hidden": false
    }
   },
   "outputs": [
    {
     "name": "stdout",
     "output_type": "stream",
     "text": [
      "[1, 1, 4, 5, 1, 4]\n"
     ]
    }
   ],
   "source": [
    "list = [1, 1, 4, 5, 1, 4]\n",
    "print(list)"
   ]
  },
  {
   "cell_type": "markdown",
   "id": "a6eb5f2c39c61daf",
   "metadata": {
    "collapsed": false,
    "jupyter": {
     "outputs_hidden": false
    }
   },
   "source": [
    "4. Traverse list in 2 ways using for loop\n",
    "\n",
    "    用两种 for 循环的方式遍历列表"
   ]
  },
  {
   "cell_type": "code",
   "execution_count": 4,
   "id": "initial_id",
   "metadata": {},
   "outputs": [
    {
     "name": "stdout",
     "output_type": "stream",
     "text": [
      "1\n",
      "2\n",
      "3\n",
      "4\n"
     ]
    }
   ],
   "source": [
    "# 1.\n",
    "list = [1, 2, 3, 4]\n",
    "for i in list:\n",
    "    print(i)"
   ]
  },
  {
   "cell_type": "code",
   "execution_count": 3,
   "id": "5b4c19ce7f68acb3",
   "metadata": {
    "collapsed": false,
    "is_executing": true,
    "jupyter": {
     "outputs_hidden": false
    }
   },
   "outputs": [
    {
     "name": "stdout",
     "output_type": "stream",
     "text": [
      "1\n",
      "2\n",
      "3\n",
      "4\n"
     ]
    }
   ],
   "source": [
    "# 2.\n",
    "list = [1, 2, 3, 4]\n",
    "for i in range(len(list)):\n",
    "    print(list[i])\n",
    "    i += 1"
   ]
  },
  {
   "cell_type": "markdown",
   "id": "7b4a42eed7812899",
   "metadata": {
    "collapsed": false,
    "jupyter": {
     "outputs_hidden": false
    }
   },
   "source": [
    "5. Define a list that contains elements of different types.\n",
    "\n",
    "    定义一个包含不同类型元素的列表"
   ]
  },
  {
   "cell_type": "code",
   "execution_count": 5,
   "id": "c7ebc924e854d806",
   "metadata": {
    "collapsed": false,
    "jupyter": {
     "outputs_hidden": false
    }
   },
   "outputs": [],
   "source": [
    "list = [1, \"1\", True, 7.6]"
   ]
  },
  {
   "cell_type": "markdown",
   "id": "8436fa63ae95e5dc",
   "metadata": {
    "collapsed": false,
    "jupyter": {
     "outputs_hidden": false
    }
   },
   "source": [
    "6. How many items does the char_lists have?\n",
    "\n",
    "    char_list 中有几个元素？"
   ]
  },
  {
   "cell_type": "code",
   "execution_count": 6,
   "id": "9f7e74a21688b55f",
   "metadata": {
    "collapsed": false,
    "jupyter": {
     "outputs_hidden": false
    }
   },
   "outputs": [
    {
     "name": "stdout",
     "output_type": "stream",
     "text": [
      "2\n"
     ]
    }
   ],
   "source": [
    "char_lists = [['a', 'b', 'c'], ['d', 'e', 'f']]\n",
    "print(len(char_lists))"
   ]
  },
  {
   "cell_type": "markdown",
   "id": "deec8e191a15380d",
   "metadata": {
    "collapsed": false,
    "jupyter": {
     "outputs_hidden": false
    }
   },
   "source": [
    "7. Add elements of list_2 to list_1 in 2 ways\n",
    "\n",
    "    用 2 种方法将 list_2 的元素添加到 list_1"
   ]
  },
  {
   "cell_type": "code",
   "execution_count": null,
   "id": "be8fcb00b407ff37",
   "metadata": {
    "collapsed": false,
    "jupyter": {
     "outputs_hidden": false
    }
   },
   "outputs": [],
   "source": [
    "list_1 = [1, 2, 3, 4]\n",
    "list_2 = [5, 6, 7, 8]\n",
    "list_1 += list_2"
   ]
  },
  {
   "cell_type": "code",
   "execution_count": 8,
   "id": "9f83b699-3593-4b59-aba5-abca5af58296",
   "metadata": {},
   "outputs": [],
   "source": [
    "list_1 = [1, 2, 3, 4]\n",
    "list_2 = [5, 6, 7, 8]\n",
    "list_1.extend(list_2)"
   ]
  },
  {
   "cell_type": "markdown",
   "id": "91b5dccc35ac0c6d",
   "metadata": {
    "collapsed": false,
    "jupyter": {
     "outputs_hidden": false
    }
   },
   "source": [
    "8. What is the difference between del and pop()?\n",
    "\n",
    "    del 和 pop() 的区别是什么？"
   ]
  },
  {
   "cell_type": "code",
   "execution_count": null,
   "id": "8ea48a4321b8617f",
   "metadata": {
    "collapsed": false,
    "jupyter": {
     "outputs_hidden": false
    }
   },
   "outputs": [],
   "source": [
    "nums = [1, 2, 3, 4]\n",
    "del nums[0]\n",
    "nums.pop(0)\n",
    "# del是关键字 pop是方法"
   ]
  },
  {
   "cell_type": "markdown",
   "id": "661bd7868bd3e52c",
   "metadata": {
    "collapsed": false,
    "jupyter": {
     "outputs_hidden": false
    }
   },
   "source": [
    "9. What is the difference between remove() and clear()?\n",
    "\n",
    "    remove() 和 clear() 的区别是什么？"
   ]
  },
  {
   "cell_type": "code",
   "execution_count": 17,
   "id": "9c4600b69a2bbed1",
   "metadata": {
    "collapsed": false,
    "jupyter": {
     "outputs_hidden": false
    }
   },
   "outputs": [
    {
     "name": "stdout",
     "output_type": "stream",
     "text": [
      "[2, 3, 4]\n",
      "[]\n"
     ]
    }
   ],
   "source": [
    "nums = [1, 2, 3, 4]\n",
    "nums.remove(1)\n",
    "print(nums)\n",
    "nums.clear()\n",
    "print(nums)\n",
    "# remove删除指定元素  clear是清空"
   ]
  },
  {
   "cell_type": "markdown",
   "id": "2b8733d4bff917cd",
   "metadata": {
    "collapsed": false,
    "jupyter": {
     "outputs_hidden": false
    }
   },
   "source": [
    "10. What is the difference between list.sort(reverse=True) and list.reverse()?\n",
    "\n",
    "    list.sort(reverse=True) 和 list.reverse() 的区别是什么？"
   ]
  },
  {
   "cell_type": "code",
   "execution_count": 15,
   "id": "5bc726c7b7a37b53",
   "metadata": {
    "collapsed": false,
    "jupyter": {
     "outputs_hidden": false
    }
   },
   "outputs": [
    {
     "name": "stdout",
     "output_type": "stream",
     "text": [
      "[4, 3, 2, 1] [4, 2, 3, 1]\n"
     ]
    }
   ],
   "source": [
    "nums = [1, 3, 2, 4]\n",
    "nums1 = [1, 3, 2, 4]\n",
    "nums.sort(reverse = True)\n",
    "nums1.reverse()\n",
    "print(nums, nums1)"
   ]
  },
  {
   "cell_type": "markdown",
   "id": "558ccf18f675d460",
   "metadata": {
    "collapsed": false,
    "jupyter": {
     "outputs_hidden": false
    }
   },
   "source": [
    "# tuple | 元组"
   ]
  },
  {
   "cell_type": "markdown",
   "id": "e700d152c18c61e5",
   "metadata": {
    "collapsed": false,
    "jupyter": {
     "outputs_hidden": false
    }
   },
   "source": [
    "11. Define and print a tuple\n",
    "\n",
    "    定义并打印一个元组"
   ]
  },
  {
   "cell_type": "code",
   "execution_count": 16,
   "id": "bfa3de95e5e02dd5",
   "metadata": {
    "collapsed": false,
    "jupyter": {
     "outputs_hidden": false
    }
   },
   "outputs": [
    {
     "name": "stdout",
     "output_type": "stream",
     "text": [
      "(1, 2, 3)\n"
     ]
    }
   ],
   "source": [
    "tul = (1, 2, 3)\n",
    "print(tul)"
   ]
  },
  {
   "cell_type": "markdown",
   "id": "4bebdaafbc2b08e9",
   "metadata": {
    "collapsed": false,
    "jupyter": {
     "outputs_hidden": false
    }
   },
   "source": [
    "12. Define a tuple with only one element\n",
    "\n",
    "    定义一个只有一个元素的元组"
   ]
  },
  {
   "cell_type": "code",
   "execution_count": null,
   "id": "7f63f2c89b694e45",
   "metadata": {
    "collapsed": false,
    "jupyter": {
     "outputs_hidden": false
    }
   },
   "outputs": [],
   "source": [
    "tuple_1 = ()\n",
    "print(type(tuple_1))\n",
    "\n",
    "tuple_2 = ('abc')\n",
    "print(type(tuple_2))\n",
    "\n",
    "tuple_3 = (123)\n",
    "print(type(tuple_3))\n",
    "\n"
   ]
  },
  {
   "cell_type": "markdown",
   "id": "27aae179e4bcef66",
   "metadata": {
    "collapsed": false,
    "jupyter": {
     "outputs_hidden": false
    }
   },
   "source": [
    "13. Write down all functions of tuple\n",
    "\n",
    "    写出所有元组的方法"
   ]
  },
  {
   "cell_type": "code",
   "execution_count": 19,
   "id": "76037b6e88dbe653",
   "metadata": {
    "collapsed": false,
    "jupyter": {
     "outputs_hidden": false
    }
   },
   "outputs": [],
   "source": [
    "# print(dir(tuple))"
   ]
  },
  {
   "cell_type": "markdown",
   "id": "74e6e4be6c856bd8",
   "metadata": {
    "collapsed": false,
    "jupyter": {
     "outputs_hidden": false
    }
   },
   "source": [
    "14. How to modify a tuple?\n",
    "\n",
    "    如何修改元组？"
   ]
  },
  {
   "cell_type": "code",
   "execution_count": null,
   "id": "ff4d5739ae5e78e8",
   "metadata": {
    "collapsed": false,
    "jupyter": {
     "outputs_hidden": false
    }
   },
   "outputs": [],
   "source": [
    "tuple_1 = (1, 2, 3)\n",
    "tuple_1 = (1, 2, 3, 4)"
   ]
  },
  {
   "cell_type": "markdown",
   "id": "187bb55193f884a7",
   "metadata": {
    "collapsed": false,
    "jupyter": {
     "outputs_hidden": false
    }
   },
   "source": []
  }
 ],
 "metadata": {
  "kernelspec": {
   "display_name": "Python 3 (ipykernel)",
   "language": "python",
   "name": "python3"
  },
  "language_info": {
   "codemirror_mode": {
    "name": "ipython",
    "version": 3
   },
   "file_extension": ".py",
   "mimetype": "text/x-python",
   "name": "python",
   "nbconvert_exporter": "python",
   "pygments_lexer": "ipython3",
   "version": "3.9.0"
  }
 },
 "nbformat": 4,
 "nbformat_minor": 5
}
