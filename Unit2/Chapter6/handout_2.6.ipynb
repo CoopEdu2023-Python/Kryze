{
 "cells": [
  {
   "cell_type": "markdown",
   "id": "51be4273cf25ca79",
   "metadata": {
    "collapsed": false
   },
   "source": [
    "# Class Attribute | 类属性"
   ]
  },
  {
   "cell_type": "markdown",
   "id": "dd04b2441b845fce",
   "metadata": {
    "collapsed": false
   },
   "source": [
    "1. What is the difference between class attribute and instance attribute?<br />\n",
    "    类属性和实例属性的区别？"
   ]
  },
  {
   "cell_type": "code",
   "execution_count": 1,
   "id": "initial_id",
   "metadata": {
    "collapsed": true
   },
   "outputs": [
    {
     "ename": "SyntaxError",
     "evalue": "invalid character '，' (U+FF0C) (2304347603.py, line 1)",
     "output_type": "error",
     "traceback": [
      "\u001b[1;36m  Cell \u001b[1;32mIn[1], line 1\u001b[1;36m\u001b[0m\n\u001b[1;33m    *(在面向对象编程中，类属性和实例属性是两种不同类型的属性，它们在使用和存储上有一些关键的区别。)\u001b[0m\n\u001b[1;37m              ^\u001b[0m\n\u001b[1;31mSyntaxError\u001b[0m\u001b[1;31m:\u001b[0m invalid character '，' (U+FF0C)\n"
     ]
    }
   ],
   "source": [
    "#在面向对象编程中，类属性和实例属性是两种不同类型的属性，它们在使用和存储上有一些关键的区别。\n",
    "\n",
    "#定义位置:\n",
    "\n",
    "#类属性（Class Attributes）：定义在类中，而不是在方法中。它是类的一部分，而不是对象的一部分。\n",
    "#实例属性（Instance Attributes）：定义在方法中，通常在类的构造方法（比如__init__方法）中。每个实例都有自己的实例属性。\n",
    "#存储位置:\n",
    "\n",
    "#类属性：存储在类的命名空间中，因此它们对于该类的所有实例都是共享的。当类的任何一个实例修改了这个属性，其他实例也会受到影响。\n",
    "#实例属性：存储在实例的命名空间中，每个实例都有自己的一组属性值。修改一个实例的属性不会影响其他实例。\n",
    "#访问方式:\n",
    "\n",
    "#类属性：通过类名或实例名访问，但修改时最好使用类名，以避免混淆。\n",
    "#实例属性：通常通过实例名访问。\n",
    "#修改影响:\n",
    "\n",
    "#类属性：当一个实例修改了类属性，其他实例也会受到影响。\n",
    "#实例属性：一个实例的属性的修改不会影响其他实例。"
   ]
  },
  {
   "cell_type": "markdown",
   "id": "505a5f7b2821d6df",
   "metadata": {
    "collapsed": false
   },
   "source": [
    "2. How to define a class attribute?<br />\n",
    "    如何定义类属性？"
   ]
  },
  {
   "cell_type": "code",
   "execution_count": 1,
   "id": "fd0d52fb6a33f3c8",
   "metadata": {
    "collapsed": false
   },
   "outputs": [
    {
     "name": "stdout",
     "output_type": "stream",
     "text": [
      "10\n"
     ]
    }
   ],
   "source": [
    "class Student:\n",
    "    number = 0\n",
    "\n",
    "    def __init__(self) -> None:\n",
    "        self.name = ''\n",
    "        Student.number += 1\n",
    "\n",
    "for i in range(10):\n",
    "    Student()\n",
    "\n",
    "\n",
    "print(Student.number)\n",
    "    "
   ]
  },
  {
   "cell_type": "code",
   "execution_count": 2,
   "metadata": {},
   "outputs": [
    {
     "name": "stdout",
     "output_type": "stream",
     "text": [
      "0\n"
     ]
    }
   ],
   "source": [
    "class Student:\n",
    "    number = 0\n",
    "\n",
    "    def __init__(self) -> None:\n",
    "        self.name = ''\n",
    "        self.number += 1\n",
    "\n",
    "for i in range(10):\n",
    "    Student()\n",
    "\n",
    "\n",
    "print(Student.number)"
   ]
  },
  {
   "cell_type": "markdown",
   "id": "b3a39549bdffcec7",
   "metadata": {
    "collapsed": false
   },
   "source": [
    "3. How to access a class attribute?<br />\n",
    "    如何访问类属性？"
   ]
  },
  {
   "cell_type": "code",
   "execution_count": 8,
   "id": "dacfeafe3bcf3ef2",
   "metadata": {
    "collapsed": false
   },
   "outputs": [
    {
     "name": "stdout",
     "output_type": "stream",
     "text": [
      "1\n",
      "2\n",
      "3\n",
      "4\n",
      "5\n",
      "6\n",
      "7\n",
      "8\n",
      "9\n",
      "10\n"
     ]
    }
   ],
   "source": [
    "class Student:\n",
    "    number = 0\n",
    "\n",
    "    def __init__(self) -> None:\n",
    "        self.name = ''\n",
    "        Student.number += 1\n",
    "\n",
    "for i in range(10):\n",
    "    stu = Student()\n",
    "    print(stu.number)"
   ]
  },
  {
   "cell_type": "markdown",
   "id": "a57f950b21efe2a7",
   "metadata": {
    "collapsed": false
   },
   "source": [
    "4. What if a class attribute and instance attribute have the same name?<br />\n",
    "    如果类属性和实例属性同名，会发生什么？"
   ]
  },
  {
   "cell_type": "code",
   "execution_count": 5,
   "id": "42366af4a7fe00e7",
   "metadata": {
    "collapsed": false
   },
   "outputs": [
    {
     "name": "stdout",
     "output_type": "stream",
     "text": [
      "0\n"
     ]
    }
   ],
   "source": [
    "class Student:\n",
    "    number = 0\n",
    "\n",
    "    def __init__(self) -> None:\n",
    "        self.name = ''\n",
    "        self.number = 1\n",
    "\n",
    "for i in range(10):\n",
    "    Student()\n",
    "\n",
    "\n",
    "print(Student.number)"
   ]
  },
  {
   "cell_type": "markdown",
   "id": "ec78f3e42cda2752",
   "metadata": {
    "collapsed": false
   },
   "source": [
    "5. Can a subclass inherit class attributes from a parent class?<br />\n",
    "    子类能否继承父类的类属性？"
   ]
  },
  {
   "cell_type": "code",
   "execution_count": 9,
   "id": "bb8e075803350dd7",
   "metadata": {
    "collapsed": false
   },
   "outputs": [
    {
     "name": "stdout",
     "output_type": "stream",
     "text": [
      "True\n"
     ]
    }
   ],
   "source": [
    "class A:\n",
    "    x = 1\n",
    "\n",
    "\n",
    "class B(A):\n",
    "    pass\n",
    "\n",
    "print(B.x is A.x)"
   ]
  },
  {
   "cell_type": "markdown",
   "id": "26d4364a0668d72",
   "metadata": {
    "collapsed": false
   },
   "source": [
    "6. How to modify the value of class attribute by instance?\n",
    "    如何通过实例修改类属性？"
   ]
  },
  {
   "cell_type": "markdown",
   "id": "6da0f634cd8d7c30",
   "metadata": {
    "collapsed": false
   },
   "source": [
    "不建议"
   ]
  },
  {
   "cell_type": "markdown",
   "id": "abad238acb869fb5",
   "metadata": {
    "collapsed": false
   },
   "source": [
    "# Class Method | 类方法"
   ]
  },
  {
   "cell_type": "markdown",
   "id": "567f4f2a9821cb10",
   "metadata": {
    "collapsed": false
   },
   "source": [
    "7. What is the difference between class method and instance method?<br />\n",
    "    类方法和实例方法的区别？"
   ]
  },
  {
   "cell_type": "code",
   "execution_count": null,
   "id": "d042cae36d4e9468",
   "metadata": {
    "collapsed": false
   },
   "outputs": [],
   "source": [
    "#类方法（Class Methods）：\n",
    "#装饰器：使用@classmethod装饰器来定义类方法。\n",
    "#参数：第一个参数是类本身，通常命名为cls，而不是实例。\n",
    "#调用方式：可以通过类名或实例名调用类方法。\n",
    "#访问：可以访问和修改类的属性，但不能直接访问实例的属性。\n",
    "\n",
    "#实例方法（Instance Methods）：\n",
    "#定义：普通的方法，没有使用特殊的装饰器。\n",
    "#参数：第一个参数是实例本身，通常命名为self。\n",
    "#调用方式：只能通过实例名调用实例方法。\n",
    "#访问：可以访问和修改实例的属性，也可以访问类的属性。"
   ]
  },
  {
   "cell_type": "markdown",
   "id": "72738008c77395e",
   "metadata": {
    "collapsed": false
   },
   "source": [
    "8. How to define a class method?<br />\n",
    "    如何定义类方法？"
   ]
  },
  {
   "cell_type": "code",
   "execution_count": null,
   "id": "1df14c62086a0323",
   "metadata": {
    "collapsed": false
   },
   "outputs": [],
   "source": [
    "class A:\n",
    "    @classmethod\n",
    "    def test(cls):\n",
    "        pass"
   ]
  },
  {
   "cell_type": "markdown",
   "id": "73e0590b3631d41f",
   "metadata": {
    "collapsed": false
   },
   "source": [
    "9. How to call a class method?<br />\n",
    "    如何调用类方法？"
   ]
  },
  {
   "cell_type": "code",
   "execution_count": 15,
   "id": "18734d101822615e",
   "metadata": {
    "collapsed": false
   },
   "outputs": [],
   "source": [
    "class A:\n",
    "    @classmethod\n",
    "    def test(cls):\n",
    "        pass\n",
    "\n",
    "\n",
    "A.test()"
   ]
  },
  {
   "cell_type": "markdown",
   "id": "1fd11fcaabbc8df9",
   "metadata": {
    "collapsed": false
   },
   "source": [
    "10. What if a class method and instance method have the same name?<br />\n",
    "    如果类方法和实例方法同名，会发生什么？"
   ]
  },
  {
   "cell_type": "code",
   "execution_count": 13,
   "id": "d7ce3898e6889e70",
   "metadata": {
    "collapsed": false
   },
   "outputs": [],
   "source": [
    "class A:\n",
    "    @classmethod\n",
    "    def test(cls):\n",
    "        pass\n",
    "\n",
    "    def test(self):\n",
    "        pass\n",
    "\n",
    "\n",
    "A().test()"
   ]
  },
  {
   "cell_type": "markdown",
   "id": "64d94449c446f320",
   "metadata": {
    "collapsed": false
   },
   "source": [
    "# Static Method | 静态方法"
   ]
  },
  {
   "cell_type": "markdown",
   "id": "5b98993e58cae50e",
   "metadata": {
    "collapsed": false
   },
   "source": [
    "11. How to define a static method?<br />\n",
    "    如何定义静态方法？"
   ]
  },
  {
   "cell_type": "code",
   "execution_count": null,
   "id": "a7d15b57db875fa0",
   "metadata": {
    "collapsed": false
   },
   "outputs": [],
   "source": [
    "class A:\n",
    "    @staticmethod\n",
    "    def test():\n",
    "        pass"
   ]
  },
  {
   "cell_type": "markdown",
   "id": "360d58ee3ef18e66",
   "metadata": {
    "collapsed": false
   },
   "source": [
    "12. What is the difference between static method and function? Why do we need static method?<br />\n",
    "    静态方法和函数的区别？为什么需要静态方法？"
   ]
  },
  {
   "cell_type": "code",
   "execution_count": null,
   "id": "9e97002cc5b49121",
   "metadata": {
    "collapsed": false
   },
   "outputs": [],
   "source": [
    "#与类相关的操作：有些方法与类本身相关，但并不需要访问类的实例。静态方法提供了一种将这些方法组织在类中的方式。\n",
    "\n",
    "#封装：静态方法可以用于封装与类相关的功能，而不会引入与实例相关的状态。这有助于提高代码的可维护性和清晰度。\n",
    "\n",
    "#代码组织：通过将相关的功能放在一个类中，可以更好地组织代码。静态方法允许将一组相关的操作放在同一个类中，而无需创建实例。\n",
    "\n",
    "#一致性：在某些情况下，静态方法可以提高代码的一致性。例如，如果有一些操作与类相关，但不需要访问实例，使用静态方法可以使代码更一致，而不会混淆实例方法和类方法的使用。\n",
    "\n",
    "#在实际编程中，是否使用静态方法通常取决于具体的设计需求和代码组织风格。在某些情况下，静态方法可以提供一种更清晰、更一致的方式来组织代码。"
   ]
  }
 ],
 "metadata": {
  "kernelspec": {
   "display_name": "Python 3",
   "language": "python",
   "name": "python3"
  },
  "language_info": {
   "codemirror_mode": {
    "name": "ipython",
    "version": 3
   },
   "file_extension": ".py",
   "mimetype": "text/x-python",
   "name": "python",
   "nbconvert_exporter": "python",
   "pygments_lexer": "ipython3",
   "version": "3.12.0"
  }
 },
 "nbformat": 4,
 "nbformat_minor": 5
}
