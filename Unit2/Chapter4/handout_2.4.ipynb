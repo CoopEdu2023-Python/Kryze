{
 "cells": [
  {
   "cell_type": "markdown",
   "id": "461c33c492c4e295",
   "metadata": {
    "collapsed": false
   },
   "source": [
    "# Inheritance | 继承"
   ]
  },
  {
   "cell_type": "markdown",
   "id": "73e9aaf4984897b9",
   "metadata": {
    "collapsed": false
   },
   "source": [
    "1. Basic of inheritance.<br />\n",
    "    单继承的基本特点"
   ]
  },
  {
   "cell_type": "code",
   "execution_count": 4,
   "id": "initial_id",
   "metadata": {
    "collapsed": true
   },
   "outputs": [
    {
     "name": "stdout",
     "output_type": "stream",
     "text": [
      "['_A__state', '__class__', '__delattr__', '__dict__', '__dir__', '__doc__', '__eq__', '__format__', '__ge__', '__getattribute__', '__getstate__', '__gt__', '__hash__', '__init__', '__init_subclass__', '__le__', '__lt__', '__module__', '__ne__', '__new__', '__reduce__', '__reduce_ex__', '__repr__', '__setattr__', '__sizeof__', '__str__', '__subclasshook__', '__weakref__']\n",
      "['_A__state', '__class__', '__delattr__', '__dict__', '__dir__', '__doc__', '__eq__', '__format__', '__ge__', '__getattribute__', '__getstate__', '__gt__', '__hash__', '__init__', '__init_subclass__', '__le__', '__lt__', '__module__', '__ne__', '__new__', '__reduce__', '__reduce_ex__', '__repr__', '__setattr__', '__sizeof__', '__str__', '__subclasshook__', '__weakref__']\n"
     ]
    }
   ],
   "source": [
    "class A:\n",
    "    def __init__(self):\n",
    "        self.x =1\n",
    "        self.__y = 1\n",
    "    \n",
    "    def __state(self):\n",
    "        pass\n",
    "\n",
    "class B(A):\n",
    "    pass\n",
    "\n",
    "\n",
    "print(dir(A))\n",
    "print(dir(B))\n"
   ]
  },
  {
   "cell_type": "markdown",
   "id": "9d162dabaecb748a",
   "metadata": {
    "collapsed": false
   },
   "source": [
    "2. Transitivity of inheritance.<br />\n",
    "    继承的传递性"
   ]
  },
  {
   "cell_type": "code",
   "execution_count": 6,
   "id": "b651b1483a1ffa87",
   "metadata": {
    "collapsed": false
   },
   "outputs": [
    {
     "name": "stdout",
     "output_type": "stream",
     "text": [
      "1\n",
      "1\n",
      "3\n"
     ]
    }
   ],
   "source": [
    "class A:\n",
    "    def __init__(self):\n",
    "        self.x = 1\n",
    "        self.y = 2\n",
    "        self.z = 3\n",
    "    \n",
    "    def get_X(self):\n",
    "        print(self.x)\n",
    "\n",
    "\n",
    "class B(A):\n",
    "    def get_Y(self):\n",
    "        print(self.y)\n",
    "    \n",
    "\n",
    "class C(B):\n",
    "    def get_Z(self):\n",
    "        print(self.z)\n",
    "\n",
    "# A().get_Y() 报错\n",
    "B().get_X()\n",
    "C().get_X()\n",
    "C().get_Z()"
   ]
  },
  {
   "cell_type": "markdown",
   "id": "b18b3a4c6fbb5f02",
   "metadata": {
    "collapsed": false
   },
   "source": [
    "3. Overriding a method in a subclass.<br />\n",
    "    在子类中重写父类的方法"
   ]
  },
  {
   "cell_type": "code",
   "execution_count": 7,
   "id": "d68130fa48bf504c",
   "metadata": {
    "collapsed": false
   },
   "outputs": [
    {
     "name": "stdout",
     "output_type": "stream",
     "text": [
      "FAQ\n"
     ]
    }
   ],
   "source": [
    "class Animal:\n",
    "    def speak(self):\n",
    "        print(\"Animal\")\n",
    "\n",
    "\n",
    "class Dog(Animal):\n",
    "    def speak(self):\n",
    "        print(\"FAQ\")\n",
    "\n",
    "\n",
    "Dog().speak()"
   ]
  },
  {
   "cell_type": "markdown",
   "id": "9e10fface17b9cf7",
   "metadata": {
    "collapsed": false
   },
   "source": [
    "4. Call parent method in subclass.<br />\n",
    "    在子类中调用父类方法"
   ]
  },
  {
   "cell_type": "code",
   "execution_count": 9,
   "id": "4ccc72b66cdb0ef4",
   "metadata": {
    "collapsed": false
   },
   "outputs": [
    {
     "name": "stdout",
     "output_type": "stream",
     "text": [
      "Animal\n"
     ]
    }
   ],
   "source": [
    "class Animal:\n",
    "    def speak(self):\n",
    "        print(\"Animal\")\n",
    "\n",
    "\n",
    "class Dog(Animal):\n",
    "    def speak(self):\n",
    "        print(\"FAQ\")\n",
    "    \n",
    "    def old(self):\n",
    "        super().speak()\n",
    "\n",
    "\n",
    "Dog().old()"
   ]
  },
  {
   "cell_type": "markdown",
   "id": "74b3b835fbe56301",
   "metadata": {
    "collapsed": false
   },
   "source": [
    "5. Determine whether the method overridden in a subclass will override the parent class method.<br />\n",
    "    探究子类重写的方法是否会覆盖父类方法"
   ]
  },
  {
   "cell_type": "code",
   "execution_count": 2,
   "id": "c1fe11f79a296af6",
   "metadata": {
    "collapsed": false
   },
   "outputs": [
    {
     "name": "stdout",
     "output_type": "stream",
     "text": [
      "FAQ\n",
      "Animal\n"
     ]
    }
   ],
   "source": [
    "class Animal:\n",
    "    def speak(self):\n",
    "        print(\"Animal\")\n",
    "\n",
    "\n",
    "class Dog(Animal):\n",
    "    def speak(self):\n",
    "        print(\"FAQ\")\n",
    "    \n",
    "    def old(self):\n",
    "        super().speak()\n",
    "\n",
    "Dog().speak()\n",
    "Dog().old()\n",
    "\n"
   ]
  },
  {
   "cell_type": "markdown",
   "id": "9bdc691a3e102af6",
   "metadata": {
    "collapsed": false
   },
   "source": [
    "6. Overriding a method in a subclass.<br />\n",
    "    在子类中重写父类的私有方法"
   ]
  },
  {
   "cell_type": "code",
   "execution_count": null,
   "id": "a323bc44f6bcd1b1",
   "metadata": {
    "collapsed": false
   },
   "outputs": [],
   "source": []
  },
  {
   "cell_type": "markdown",
   "id": "39883c6823c102e1",
   "metadata": {
    "collapsed": false
   },
   "source": [
    "7. Basic of multi-Inheritance.<br />\n",
    "    多继承的基本特点"
   ]
  },
  {
   "cell_type": "code",
   "execution_count": 7,
   "id": "51af3a314e4461ee",
   "metadata": {
    "collapsed": false
   },
   "outputs": [
    {
     "name": "stdout",
     "output_type": "stream",
     "text": [
      "1 2\n"
     ]
    }
   ],
   "source": [
    "class A:\n",
    "    def __init__(self) -> None:\n",
    "        self.x = 1\n",
    "\n",
    "\n",
    "class B:\n",
    "    def __init__(self) -> None:\n",
    "        self.y = 2\n",
    "\n",
    "class C(A, B):\n",
    "    def __init__(self) -> None:\n",
    "        A.__init__(self)\n",
    "        B.__init__(self)\n",
    "\n",
    "\n",
    "print(C().x, C().y)"
   ]
  },
  {
   "cell_type": "markdown",
   "id": "cdb4953a22d6b720",
   "metadata": {
    "collapsed": false
   },
   "source": [
    "8. Precedence of attributes and methods with the same name in multiple inheritance.<br />\n",
    "    多继承中，同名属性和方法的优先级"
   ]
  },
  {
   "cell_type": "code",
   "execution_count": 9,
   "id": "83745e7cd7d58a16",
   "metadata": {
    "collapsed": false
   },
   "outputs": [
    {
     "name": "stdout",
     "output_type": "stream",
     "text": [
      "1\n"
     ]
    }
   ],
   "source": [
    "class A:\n",
    "    def test(self):\n",
    "        print(1)\n",
    "\n",
    "\n",
    "class B:\n",
    "    def test(self):\n",
    "        print(2)\n",
    "\n",
    "class C(A, B):\n",
    "    pass\n",
    "\n",
    "\n",
    "C().test()\n"
   ]
  }
 ],
 "metadata": {
  "kernelspec": {
   "display_name": "Python 3",
   "language": "python",
   "name": "python3"
  },
  "language_info": {
   "codemirror_mode": {
    "name": "ipython",
    "version": 3
   },
   "file_extension": ".py",
   "mimetype": "text/x-python",
   "name": "python",
   "nbconvert_exporter": "python",
   "pygments_lexer": "ipython3",
   "version": "3.12.0"
  }
 },
 "nbformat": 4,
 "nbformat_minor": 5
}
