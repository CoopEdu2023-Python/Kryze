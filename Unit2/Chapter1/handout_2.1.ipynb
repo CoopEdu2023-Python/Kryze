{
 "cells": [
  {
   "cell_type": "markdown",
   "id": "d3cd6c7f8d8428d7",
   "metadata": {
    "collapsed": false
   },
   "source": [
    "# OOP Object-Oriented Programming | 面向对象"
   ]
  },
  {
   "cell_type": "markdown",
   "id": "1c5845d85c8364e1",
   "metadata": {
    "collapsed": false
   },
   "source": [
    "1. Define a blank class with no attributes and methods.\n",
    "\n",
    "    定义 1 个无属性、无方法的类"
   ]
  },
  {
   "cell_type": "code",
   "execution_count": 2,
   "id": "20f705bdd1a32121",
   "metadata": {
    "ExecuteTime": {
     "end_time": "2023-11-08T16:31:29.182568Z",
     "start_time": "2023-11-08T16:31:29.162403Z"
    },
    "collapsed": false
   },
   "outputs": [],
   "source": [
    "class player:\n",
    "    pass"
   ]
  },
  {
   "cell_type": "markdown",
   "id": "8983b7cd4eb16a19",
   "metadata": {
    "collapsed": false
   },
   "source": [
    "2. Write down 3 main components of class.\n",
    "\n",
    "    写出类的 3 要素"
   ]
  },
  {
   "cell_type": "code",
   "execution_count": null,
   "id": "92f017f89f02eb55",
   "metadata": {
    "collapsed": false
   },
   "outputs": [],
   "source": [
    "# name attributes methods"
   ]
  },
  {
   "cell_type": "markdown",
   "id": "9af3a12f6e0cbe8b",
   "metadata": {
    "collapsed": false
   },
   "source": [
    "3. Write a School class with attributes and methods.\n",
    "\n",
    "    写一个 School 类，包括属性和方法"
   ]
  },
  {
   "cell_type": "code",
   "execution_count": 3,
   "id": "1e06e51f244f162a",
   "metadata": {
    "collapsed": false
   },
   "outputs": [],
   "source": [
    "class School:\n",
    "    name = \"\"\n",
    "    nums_of_student = 0\n",
    "\n",
    "\n",
    "    def drop():\n",
    "        pass\n",
    "\n"
   ]
  },
  {
   "cell_type": "markdown",
   "id": "df2afb14e7ef3644",
   "metadata": {
    "collapsed": false
   },
   "source": [
    "4. Print attributes and call methods of an object of School class.\n",
    "\n",
    "    打印一个 School 类的对象的属性，调用这个对象的方法"
   ]
  },
  {
   "cell_type": "code",
   "execution_count": 13,
   "id": "ff23ad3b778f28ac",
   "metadata": {
    "collapsed": false
   },
   "outputs": [
    {
     "name": "stdout",
     "output_type": "stream",
     "text": [
      "\n"
     ]
    }
   ],
   "source": [
    "class School:\n",
    "    name = \"\"\n",
    "    nums_of_student = 0\n",
    "\n",
    "\n",
    "    def drop(self):\n",
    "        pass\n",
    "\n",
    "\n",
    "msa = School()\n",
    "print(msa.name)\n",
    "msa.drop()"
   ]
  },
  {
   "cell_type": "markdown",
   "id": "a0aee4664e1a0d0b",
   "metadata": {
    "collapsed": false
   },
   "source": [
    "5. Print the type of the object created before\n",
    "\n",
    "    打印之前创建的对象的类型"
   ]
  },
  {
   "cell_type": "code",
   "execution_count": 11,
   "id": "8836e1f68be2b85d",
   "metadata": {
    "collapsed": false
   },
   "outputs": [
    {
     "name": "stdout",
     "output_type": "stream",
     "text": [
      "<class '__main__.School'>\n"
     ]
    }
   ],
   "source": [
    "class School:\n",
    "    name = \"\"\n",
    "    nums_of_student = 0\n",
    "\n",
    "\n",
    "    def drop():\n",
    "        pass\n",
    "\n",
    "\n",
    "msa = School()\n",
    "print(type(msa))"
   ]
  },
  {
   "cell_type": "markdown",
   "id": "ae1d6bd15d643ea",
   "metadata": {
    "collapsed": false
   },
   "source": [
    "6. Explain what is self in class.\n",
    "\n",
    "    解释类中的 self 是什么"
   ]
  },
  {
   "cell_type": "code",
   "execution_count": null,
   "id": "90a93a5f186d0fe3",
   "metadata": {
    "collapsed": false
   },
   "outputs": [],
   "source": [
    "# 是实例"
   ]
  }
 ],
 "metadata": {
  "kernelspec": {
   "display_name": "Python 3",
   "language": "python",
   "name": "python3"
  },
  "language_info": {
   "codemirror_mode": {
    "name": "ipython",
    "version": 2
   },
   "file_extension": ".py",
   "mimetype": "text/x-python",
   "name": "python",
   "nbconvert_exporter": "python",
   "pygments_lexer": "ipython2",
   "version": "2.7.6"
  }
 },
 "nbformat": 4,
 "nbformat_minor": 5
}
