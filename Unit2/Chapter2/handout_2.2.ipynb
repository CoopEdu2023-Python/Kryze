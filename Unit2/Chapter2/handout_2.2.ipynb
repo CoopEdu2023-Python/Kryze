{
 "cells": [
  {
   "cell_type": "markdown",
   "id": "d99417c69febcbe8",
   "metadata": {
    "collapsed": false
   },
   "source": [
    "# Magic Methods | 魔术方法"
   ]
  },
  {
   "cell_type": "markdown",
   "id": "e6e9ce88cdc70bb0",
   "metadata": {
    "collapsed": false
   },
   "source": [
    "1. What is magic methods?\n",
    "\n",
    "    什么是魔术方法？"
   ]
  },
  {
   "cell_type": "code",
   "execution_count": null,
   "id": "1d4d8e8d93269ac2",
   "metadata": {
    "collapsed": false
   },
   "outputs": [],
   "source": [
    "# function that automaticly invoked in specific operation or built-in information"
   ]
  },
  {
   "cell_type": "markdown",
   "id": "5d9986d3f0604fa1",
   "metadata": {
    "collapsed": false
   },
   "source": [
    "2. Constructor\n",
    "\n",
    "    构造函数"
   ]
  },
  {
   "cell_type": "code",
   "execution_count": 3,
   "id": "initial_id",
   "metadata": {
    "collapsed": true
   },
   "outputs": [
    {
     "name": "stdout",
     "output_type": "stream",
     "text": [
      "C\n"
     ]
    }
   ],
   "source": [
    "class A:\n",
    "    def __init__(self):\n",
    "        print(\"C\")\n",
    "    \n",
    "\n",
    "a = A()"
   ]
  },
  {
   "cell_type": "markdown",
   "id": "513826e77899179",
   "metadata": {
    "collapsed": false
   },
   "source": [
    "3. Destructor\n",
    "\n",
    "    析构函数"
   ]
  },
  {
   "cell_type": "code",
   "execution_count": 4,
   "id": "200cfe0b95e7272b",
   "metadata": {
    "collapsed": false
   },
   "outputs": [
    {
     "name": "stdout",
     "output_type": "stream",
     "text": [
      "del\n"
     ]
    }
   ],
   "source": [
    "from typing import Any\n",
    "\n",
    "\n",
    "class A:\n",
    "    def __del__(self):\n",
    "        print(\"del\")\n",
    "\n",
    "\n",
    "a = A()\n",
    "del a\n",
    "        "
   ]
  },
  {
   "cell_type": "markdown",
   "id": "c913627511ee8e90",
   "metadata": {
    "collapsed": false
   },
   "source": [
    "4. __str__() and __repr__()"
   ]
  },
  {
   "cell_type": "code",
   "execution_count": 10,
   "id": "be3a47b7c8a79a5c",
   "metadata": {
    "collapsed": false
   },
   "outputs": [
    {
     "name": "stdout",
     "output_type": "stream",
     "text": [
      "str\n",
      "[aaa1]\n"
     ]
    }
   ],
   "source": [
    "from typing import Any\n",
    "\n",
    "\n",
    "class A:\n",
    "    def __init__(self, val) -> None:\n",
    "        self.val = val\n",
    "    def __str__(self) -> str:\n",
    "        return \"str\"\n",
    "\n",
    "\n",
    "    def __repr__(self) -> str:\n",
    "        return f\"aaa{self.val}\"\n",
    "\n",
    "\n",
    "a = A(1)\n",
    "b = list()\n",
    "b.append(a)\n",
    "print(str(a))\n",
    "print(b)\n",
    "        "
   ]
  },
  {
   "cell_type": "markdown",
   "id": "6e9e7d73c060fde9",
   "metadata": {
    "collapsed": false
   },
   "source": [
    "5. __lt__(), __le__() and __eq__()"
   ]
  },
  {
   "cell_type": "code",
   "execution_count": 11,
   "id": "1a5557105dcd766d",
   "metadata": {
    "collapsed": false
   },
   "outputs": [
    {
     "name": "stdout",
     "output_type": "stream",
     "text": [
      "True\n"
     ]
    }
   ],
   "source": [
    "class A:\n",
    "    def __init__(self, val) -> None:\n",
    "        self.val = val\n",
    "\n",
    "\n",
    "    def __lt__(self, other):\n",
    "        return self.val > other.val\n",
    "    \n",
    "\n",
    "    def __le__(self, other):\n",
    "        return self.val >= other.val\n",
    "    \n",
    "\n",
    "    def __eq__(self, other):\n",
    "        return self.val == other.val\n",
    "\n",
    "\n",
    "a = A(1)\n",
    "b = A(2)\n",
    "print(a > b)"
   ]
  },
  {
   "cell_type": "markdown",
   "id": "ddf1fe1b999e6350",
   "metadata": {
    "collapsed": false
   },
   "source": [
    "6. __len__()"
   ]
  },
  {
   "cell_type": "code",
   "execution_count": 12,
   "id": "bfa3d4b2b1a33fe",
   "metadata": {
    "collapsed": false
   },
   "outputs": [
    {
     "name": "stdout",
     "output_type": "stream",
     "text": [
      "10\n"
     ]
    }
   ],
   "source": [
    "class A:\n",
    "    def __init__(self, lens) -> None:\n",
    "        self.lens = lens\n",
    "    def __len__(self):\n",
    "        return self.lens\n",
    "    \n",
    "a = A(10)\n",
    "print(len(a))"
   ]
  }
 ],
 "metadata": {
  "kernelspec": {
   "display_name": "Python 3",
   "language": "python",
   "name": "python3"
  },
  "language_info": {
   "codemirror_mode": {
    "name": "ipython",
    "version": 3
   },
   "file_extension": ".py",
   "mimetype": "text/x-python",
   "name": "python",
   "nbconvert_exporter": "python",
   "pygments_lexer": "ipython3",
   "version": "3.12.0"
  }
 },
 "nbformat": 4,
 "nbformat_minor": 5
}
