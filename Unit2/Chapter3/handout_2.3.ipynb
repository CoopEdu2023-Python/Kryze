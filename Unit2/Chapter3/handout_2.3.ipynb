{
 "cells": [
  {
   "cell_type": "markdown",
   "id": "2a22f86085d25a66",
   "metadata": {
    "collapsed": false,
    "jupyter": {
     "outputs_hidden": false
    }
   },
   "source": [
    "# Private Member | 私有成员"
   ]
  },
  {
   "cell_type": "markdown",
   "id": "cb6646dba47d563b",
   "metadata": {
    "collapsed": false,
    "jupyter": {
     "outputs_hidden": false
    }
   },
   "source": [
    "1. How to define a private attribute?<br/>\n",
    "    如何定义私有变量？"
   ]
  },
  {
   "cell_type": "code",
   "execution_count": 3,
   "id": "ec120d66b570283d",
   "metadata": {
    "collapsed": false,
    "jupyter": {
     "outputs_hidden": false
    }
   },
   "outputs": [
    {
     "name": "stdout",
     "output_type": "stream",
     "text": [
      "1\n"
     ]
    }
   ],
   "source": [
    "class A:\n",
    "    def __init__(self):\n",
    "        self.__var = 1\n",
    "    \n",
    "\n",
    "    def print_private(self):\n",
    "        print(self.__var)\n",
    "    \n",
    "\n",
    "a = A()\n",
    "a.print_private()"
   ]
  },
  {
   "cell_type": "markdown",
   "id": "5703518904abc6d8",
   "metadata": {
    "collapsed": false,
    "jupyter": {
     "outputs_hidden": false
    }
   },
   "source": [
    "2. How to define a private method?<br/>\n",
    "    如何定义私有方法？"
   ]
  },
  {
   "cell_type": "code",
   "execution_count": 5,
   "id": "initial_id",
   "metadata": {},
   "outputs": [
    {
     "name": "stdout",
     "output_type": "stream",
     "text": [
      "1\n"
     ]
    }
   ],
   "source": [
    "class B:\n",
    "    def __take_it_boy(self):\n",
    "        return 1\n",
    "    \n",
    "\n",
    "    def print_private(self):\n",
    "        print(self.__take_it_boy())\n",
    "\n",
    "\n",
    "b = B()\n",
    "b.print_private()"
   ]
  },
  {
   "cell_type": "markdown",
   "id": "54364a06aa2ad3b6",
   "metadata": {
    "collapsed": false,
    "jupyter": {
     "outputs_hidden": false
    }
   },
   "source": [
    "3. Are built-in methods private?<br/>\n",
    "    内置方法是不是私有方法？"
   ]
  },
  {
   "cell_type": "code",
   "execution_count": 6,
   "id": "4cae9173bbcbf329",
   "metadata": {
    "collapsed": false,
    "jupyter": {
     "outputs_hidden": false
    }
   },
   "outputs": [
    {
     "name": "stdout",
     "output_type": "stream",
     "text": [
      "C\n"
     ]
    }
   ],
   "source": [
    "class C:\n",
    "    def __str__(self):\n",
    "        return \"C\"\n",
    "\n",
    "\n",
    "c = C()\n",
    "print(c.__str__())"
   ]
  },
  {
   "cell_type": "markdown",
   "id": "ca2664d67a56510d",
   "metadata": {
    "collapsed": false,
    "jupyter": {
     "outputs_hidden": false
    }
   },
   "source": [
    "4. How to access private variables and private methods?<br/>\n",
    "    如何访问私有变量和私有方法？<br/>\n",
    "   [What is \"pythonic\"?](https://mail.python.org/pipermail/tutor/2003-October/025932.html)"
   ]
  },
  {
   "cell_type": "code",
   "execution_count": 1,
   "id": "cc16fb695d2f4d27",
   "metadata": {
    "collapsed": false,
    "jupyter": {
     "outputs_hidden": false
    }
   },
   "outputs": [],
   "source": [
    "class D:\n",
    "    def __init__(self) -> None:\n",
    "        self.__d = 1\n",
    "\n",
    "\n",
    "    def test1(self):\n",
    "        print(self.__d)"
   ]
  }
 ],
 "metadata": {
  "kernelspec": {
   "display_name": "Python 3 (ipykernel)",
   "language": "python",
   "name": "python3"
  },
  "language_info": {
   "codemirror_mode": {
    "name": "ipython",
    "version": 3
   },
   "file_extension": ".py",
   "mimetype": "text/x-python",
   "name": "python",
   "nbconvert_exporter": "python",
   "pygments_lexer": "ipython3",
   "version": "3.12.0"
  }
 },
 "nbformat": 4,
 "nbformat_minor": 5
}
