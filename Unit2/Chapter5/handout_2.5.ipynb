{
 "cells": [
  {
   "cell_type": "markdown",
   "id": "3d42146d65d85f8a",
   "metadata": {
    "collapsed": false
   },
   "source": [
    "# Polymorphism | 多态"
   ]
  },
  {
   "cell_type": "markdown",
   "id": "67930e73d9e07c9c",
   "metadata": {
    "collapsed": false
   },
   "source": [
    "1. What is polymorphism?<br />\n",
    "    什么是多态？"
   ]
  },
  {
   "cell_type": "code",
   "execution_count": null,
   "id": "initial_id",
   "metadata": {
    "collapsed": true
   },
   "outputs": [],
   "source": [
    "#不同的对象，执行同一个方法，产生不同的结果"
   ]
  },
  {
   "cell_type": "markdown",
   "id": "103407dec5fbdf01",
   "metadata": {
    "collapsed": false
   },
   "source": [
    "# Duck Typing | 鸭子类型"
   ]
  },
  {
   "cell_type": "markdown",
   "id": "ac62cac408d28822",
   "metadata": {
    "collapsed": false
   },
   "source": [
    "2. What is duck typing?<br />\n",
    "    什么是鸭子类型？"
   ]
  },
  {
   "cell_type": "code",
   "execution_count": null,
   "id": "437bc77713d0cec2",
   "metadata": {
    "collapsed": false
   },
   "outputs": [],
   "source": []
  }
 ],
 "metadata": {
  "kernelspec": {
   "display_name": "Python 3",
   "language": "python",
   "name": "python3"
  },
  "language_info": {
   "codemirror_mode": {
    "name": "ipython",
    "version": 2
   },
   "file_extension": ".py",
   "mimetype": "text/x-python",
   "name": "python",
   "nbconvert_exporter": "python",
   "pygments_lexer": "ipython2",
   "version": "2.7.6"
  }
 },
 "nbformat": 4,
 "nbformat_minor": 5
}
